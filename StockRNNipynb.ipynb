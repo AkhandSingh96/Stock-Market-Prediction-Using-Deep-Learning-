{
  "nbformat": 4,
  "nbformat_minor": 0,
  "metadata": {
    "colab": {
      "name": "StockRNNipynb",
      "provenance": [],
      "include_colab_link": true
    },
    "kernelspec": {
      "name": "python3",
      "display_name": "Python 3"
    },
    "language_info": {
      "name": "python"
    }
  },
  "cells": [
    {
      "cell_type": "markdown",
      "metadata": {
        "id": "view-in-github",
        "colab_type": "text"
      },
      "source": [
        "<a href=\"https://colab.research.google.com/github/AkhandSingh96/Stock-Market-Prediction-Using-Deep-Learning-/blob/main/StockRNNipynb.ipynb\" target=\"_parent\"><img src=\"https://colab.research.google.com/assets/colab-badge.svg\" alt=\"Open In Colab\"/></a>"
      ]
    },
    {
      "cell_type": "code",
      "metadata": {
        "colab": {
          "base_uri": "https://localhost:8080/"
        },
        "id": "odHnmNgkM86h",
        "outputId": "ef88f148-d4c0-447e-b77e-0ca7f4eed7bf"
      },
      "source": [
        "!pip install yahoofinancials"
      ],
      "execution_count": null,
      "outputs": [
        {
          "output_type": "stream",
          "text": [
            "Collecting yahoofinancials\n",
            "  Downloading https://files.pythonhosted.org/packages/97/fe/be0f6ea704137848779fc61e7d1c9a901489aaf3423cd7b6f86a350c14c6/yahoofinancials-1.6.tar.gz\n",
            "Requirement already satisfied: beautifulsoup4 in /usr/local/lib/python3.7/dist-packages (from yahoofinancials) (4.6.3)\n",
            "Requirement already satisfied: pytz in /usr/local/lib/python3.7/dist-packages (from yahoofinancials) (2018.9)\n",
            "Building wheels for collected packages: yahoofinancials\n",
            "  Building wheel for yahoofinancials (setup.py) ... \u001b[?25l\u001b[?25hdone\n",
            "  Created wheel for yahoofinancials: filename=yahoofinancials-1.6-cp37-none-any.whl size=15192 sha256=ebfbcacace6bd38771aa924d792429750f017df2faf92273e2ac17109919d62b\n",
            "  Stored in directory: /root/.cache/pip/wheels/d9/7e/cf/4977a8572d5247242a4b13018d1d36923024ba84236e0d28bc\n",
            "Successfully built yahoofinancials\n",
            "Installing collected packages: yahoofinancials\n",
            "Successfully installed yahoofinancials-1.6\n"
          ],
          "name": "stdout"
        }
      ]
    },
    {
      "cell_type": "code",
      "metadata": {
        "colab": {
          "base_uri": "https://localhost:8080/",
          "height": 390
        },
        "id": "Z4nXzU4d8RXD",
        "outputId": "275b4a28-d483-427e-9224-2067fdc160dd"
      },
      "source": [
        "import pandas as pd\n",
        "import yfinance as yf\n",
        "\n",
        "from yahoofinancials import YahooFinancials\n",
        "AMZN = yf.download('AMZN', start='2013-01-01', end='2019-12-31',progress=False)\n",
        "# AMZN = yf.download('AMZN') for all \n",
        "all_data = AMZN[['Adj Close','Open', 'High', 'Low', 'Close', 'Volume']].round(2)\n",
        "all_data.head(10)"
      ],
      "execution_count": null,
      "outputs": [
        {
          "output_type": "execute_result",
          "data": {
            "text/html": [
              "<div>\n",
              "<style scoped>\n",
              "    .dataframe tbody tr th:only-of-type {\n",
              "        vertical-align: middle;\n",
              "    }\n",
              "\n",
              "    .dataframe tbody tr th {\n",
              "        vertical-align: top;\n",
              "    }\n",
              "\n",
              "    .dataframe thead th {\n",
              "        text-align: right;\n",
              "    }\n",
              "</style>\n",
              "<table border=\"1\" class=\"dataframe\">\n",
              "  <thead>\n",
              "    <tr style=\"text-align: right;\">\n",
              "      <th></th>\n",
              "      <th>Adj Close</th>\n",
              "      <th>Open</th>\n",
              "      <th>High</th>\n",
              "      <th>Low</th>\n",
              "      <th>Close</th>\n",
              "      <th>Volume</th>\n",
              "    </tr>\n",
              "    <tr>\n",
              "      <th>Date</th>\n",
              "      <th></th>\n",
              "      <th></th>\n",
              "      <th></th>\n",
              "      <th></th>\n",
              "      <th></th>\n",
              "      <th></th>\n",
              "    </tr>\n",
              "  </thead>\n",
              "  <tbody>\n",
              "    <tr>\n",
              "      <th>2013-01-02</th>\n",
              "      <td>257.31</td>\n",
              "      <td>256.08</td>\n",
              "      <td>258.10</td>\n",
              "      <td>253.26</td>\n",
              "      <td>257.31</td>\n",
              "      <td>3271000</td>\n",
              "    </tr>\n",
              "    <tr>\n",
              "      <th>2013-01-03</th>\n",
              "      <td>258.48</td>\n",
              "      <td>257.27</td>\n",
              "      <td>260.88</td>\n",
              "      <td>256.37</td>\n",
              "      <td>258.48</td>\n",
              "      <td>2750900</td>\n",
              "    </tr>\n",
              "    <tr>\n",
              "      <th>2013-01-04</th>\n",
              "      <td>259.15</td>\n",
              "      <td>257.58</td>\n",
              "      <td>259.80</td>\n",
              "      <td>256.65</td>\n",
              "      <td>259.15</td>\n",
              "      <td>1874200</td>\n",
              "    </tr>\n",
              "    <tr>\n",
              "      <th>2013-01-07</th>\n",
              "      <td>268.46</td>\n",
              "      <td>262.97</td>\n",
              "      <td>269.73</td>\n",
              "      <td>262.67</td>\n",
              "      <td>268.46</td>\n",
              "      <td>4910000</td>\n",
              "    </tr>\n",
              "    <tr>\n",
              "      <th>2013-01-08</th>\n",
              "      <td>266.38</td>\n",
              "      <td>267.07</td>\n",
              "      <td>268.98</td>\n",
              "      <td>263.57</td>\n",
              "      <td>266.38</td>\n",
              "      <td>3010700</td>\n",
              "    </tr>\n",
              "    <tr>\n",
              "      <th>2013-01-09</th>\n",
              "      <td>266.35</td>\n",
              "      <td>268.17</td>\n",
              "      <td>269.50</td>\n",
              "      <td>265.40</td>\n",
              "      <td>266.35</td>\n",
              "      <td>2265600</td>\n",
              "    </tr>\n",
              "    <tr>\n",
              "      <th>2013-01-10</th>\n",
              "      <td>265.34</td>\n",
              "      <td>268.54</td>\n",
              "      <td>268.74</td>\n",
              "      <td>262.30</td>\n",
              "      <td>265.34</td>\n",
              "      <td>2863400</td>\n",
              "    </tr>\n",
              "    <tr>\n",
              "      <th>2013-01-11</th>\n",
              "      <td>267.94</td>\n",
              "      <td>265.10</td>\n",
              "      <td>268.43</td>\n",
              "      <td>264.11</td>\n",
              "      <td>267.94</td>\n",
              "      <td>2413300</td>\n",
              "    </tr>\n",
              "    <tr>\n",
              "      <th>2013-01-14</th>\n",
              "      <td>272.73</td>\n",
              "      <td>268.00</td>\n",
              "      <td>274.26</td>\n",
              "      <td>267.54</td>\n",
              "      <td>272.73</td>\n",
              "      <td>4275000</td>\n",
              "    </tr>\n",
              "    <tr>\n",
              "      <th>2013-01-15</th>\n",
              "      <td>271.90</td>\n",
              "      <td>270.68</td>\n",
              "      <td>272.73</td>\n",
              "      <td>269.30</td>\n",
              "      <td>271.90</td>\n",
              "      <td>2326900</td>\n",
              "    </tr>\n",
              "  </tbody>\n",
              "</table>\n",
              "</div>"
            ],
            "text/plain": [
              "            Adj Close    Open    High     Low   Close   Volume\n",
              "Date                                                          \n",
              "2013-01-02     257.31  256.08  258.10  253.26  257.31  3271000\n",
              "2013-01-03     258.48  257.27  260.88  256.37  258.48  2750900\n",
              "2013-01-04     259.15  257.58  259.80  256.65  259.15  1874200\n",
              "2013-01-07     268.46  262.97  269.73  262.67  268.46  4910000\n",
              "2013-01-08     266.38  267.07  268.98  263.57  266.38  3010700\n",
              "2013-01-09     266.35  268.17  269.50  265.40  266.35  2265600\n",
              "2013-01-10     265.34  268.54  268.74  262.30  265.34  2863400\n",
              "2013-01-11     267.94  265.10  268.43  264.11  267.94  2413300\n",
              "2013-01-14     272.73  268.00  274.26  267.54  272.73  4275000\n",
              "2013-01-15     271.90  270.68  272.73  269.30  271.90  2326900"
            ]
          },
          "metadata": {
            "tags": []
          },
          "execution_count": 31
        }
      ]
    },
    {
      "cell_type": "code",
      "metadata": {
        "colab": {
          "base_uri": "https://localhost:8080/",
          "height": 286
        },
        "id": "RMHDsz1IHE2u",
        "outputId": "ddd27e09-3186-49a2-b55c-8ff6e38007a6"
      },
      "source": [
        "all_data['Adj Close'].plot()"
      ],
      "execution_count": null,
      "outputs": [
        {
          "output_type": "execute_result",
          "data": {
            "text/plain": [
              "<matplotlib.axes._subplots.AxesSubplot at 0x7fdd82eeb8d0>"
            ]
          },
          "metadata": {
            "tags": []
          },
          "execution_count": 32
        },
        {
          "output_type": "display_data",
          "data": {
            "image/png": "[encoded data removed]",
            "text/plain": [
              "<Figure size 432x288 with 1 Axes>"
            ]
          },
          "metadata": {
            "tags": [],
            "needs_background": "light"
          }
        }
      ]
    },
    {
      "cell_type": "code",
      "metadata": {
        "colab": {
          "base_uri": "https://localhost:8080/"
        },
        "id": "eBgewq61NE9N",
        "outputId": "b9eb32f3-9cb7-49c8-ee89-d31e074b477f"
      },
      "source": [
        "print(\"There are \"+ str(all_data[:'2018'].shape[0]) + \" observations in the training data\")\n",
        "print(\"There are \"+ str(all_data['2019':].shape[0]) + \" observations in the test data\")"
      ],
      "execution_count": null,
      "outputs": [
        {
          "output_type": "stream",
          "text": [
            "There are 1510 observations in the training data\n",
            "There are 251 observations in the test data\n"
          ],
          "name": "stdout"
        }
      ]
    },
    {
      "cell_type": "code",
      "metadata": {
        "colab": {
          "base_uri": "https://localhost:8080/"
        },
        "id": "ZcCNBXBiNHY3",
        "outputId": "1558b035-2a9d-493f-f2ea-064ea9da3ada"
      },
      "source": [
        "def ts_train_test(all_data,time_steps,for_periods):\n",
        "    '''\n",
        "    input: \n",
        "      data: dataframe with dates and price data\n",
        "    output:\n",
        "      X_train, y_train: data from 2013/1/1-2018/12/31\n",
        "      X_test:  data from 2019 -\n",
        "      sc:      insantiated MinMaxScaler object fit to the training data\n",
        "    '''\n",
        "    # create training and test set\n",
        "    ts_train = all_data[:'2018'].iloc[:,0:1].values\n",
        "    ts_test  = all_data['2019':].iloc[:,0:1].values\n",
        "    ts_train_len = len(ts_train)\n",
        "    ts_test_len = len(ts_test)\n",
        "\n",
        "    # create training data of s samples and t time steps\n",
        "    X_train = []\n",
        "    y_train = []\n",
        "    y_train_stacked = []\n",
        "    for i in range(time_steps,ts_train_len-1): \n",
        "        X_train.append(ts_train[i-time_steps:i,0])\n",
        "        y_train.append(ts_train[i:i+for_periods,0])\n",
        "    X_train, y_train = np.array(X_train), np.array(y_train)\n",
        "\n",
        "    # Reshaping X_train for efficient modelling\n",
        "    X_train = np.reshape(X_train, (X_train.shape[0],X_train.shape[1],1))\n",
        "\n",
        "    inputs = pd.concat((all_data[\"Adj Close\"][:'2018'], all_data[\"Adj Close\"]['2019':]),axis=0).values\n",
        "    inputs = inputs[len(inputs)-len(ts_test) - time_steps:]\n",
        "    inputs = inputs.reshape(-1,1)\n",
        "\n",
        "    # Preparing X_test\n",
        "    X_test = []\n",
        "    for i in range(time_steps,ts_test_len+time_steps-for_periods):\n",
        "        X_test.append(inputs[i-time_steps:i,0])\n",
        "        \n",
        "    X_test = np.array(X_test)\n",
        "    X_test = np.reshape(X_test, (X_test.shape[0],X_test.shape[1],1))\n",
        "\n",
        "    return X_train, y_train , X_test\n",
        "\n",
        "X_train, y_train, X_test = ts_train_test(all_data,5,2)\n",
        "X_train.shape[0],X_train.shape[1]"
      ],
      "execution_count": null,
      "outputs": [
        {
          "output_type": "execute_result",
          "data": {
            "text/plain": [
              "(1504, 5)"
            ]
          },
          "metadata": {
            "tags": []
          },
          "execution_count": 34
        }
      ]
    },
    {
      "cell_type": "code",
      "metadata": {
        "colab": {
          "base_uri": "https://localhost:8080/",
          "height": 419
        },
        "id": "cFkbMZsTNLtp",
        "outputId": "d0584ace-8339-4d3f-8348-cbca19945db0"
      },
      "source": [
        "\n",
        "# Make the 3-D shape to a data frame so we can see: \n",
        "X_train_see = pd.DataFrame(np.reshape(X_train, (X_train.shape[0],X_train.shape[1])))\n",
        "y_train_see = pd.DataFrame(y_train)\n",
        "pd.concat([X_train_see,y_train_see],axis=1)"
      ],
      "execution_count": null,
      "outputs": [
        {
          "output_type": "execute_result",
          "data": {
            "text/html": [
              "<div>\n",
              "<style scoped>\n",
              "    .dataframe tbody tr th:only-of-type {\n",
              "        vertical-align: middle;\n",
              "    }\n",
              "\n",
              "    .dataframe tbody tr th {\n",
              "        vertical-align: top;\n",
              "    }\n",
              "\n",
              "    .dataframe thead th {\n",
              "        text-align: right;\n",
              "    }\n",
              "</style>\n",
              "<table border=\"1\" class=\"dataframe\">\n",
              "  <thead>\n",
              "    <tr style=\"text-align: right;\">\n",
              "      <th></th>\n",
              "      <th>0</th>\n",
              "      <th>1</th>\n",
              "      <th>2</th>\n",
              "      <th>3</th>\n",
              "      <th>4</th>\n",
              "      <th>0</th>\n",
              "      <th>1</th>\n",
              "    </tr>\n",
              "  </thead>\n",
              "  <tbody>\n",
              "    <tr>\n",
              "      <th>0</th>\n",
              "      <td>257.31</td>\n",
              "      <td>258.48</td>\n",
              "      <td>259.15</td>\n",
              "      <td>268.46</td>\n",
              "      <td>266.38</td>\n",
              "      <td>266.35</td>\n",
              "      <td>265.34</td>\n",
              "    </tr>\n",
              "    <tr>\n",
              "      <th>1</th>\n",
              "      <td>258.48</td>\n",
              "      <td>259.15</td>\n",
              "      <td>268.46</td>\n",
              "      <td>266.38</td>\n",
              "      <td>266.35</td>\n",
              "      <td>265.34</td>\n",
              "      <td>267.94</td>\n",
              "    </tr>\n",
              "    <tr>\n",
              "      <th>2</th>\n",
              "      <td>259.15</td>\n",
              "      <td>268.46</td>\n",
              "      <td>266.38</td>\n",
              "      <td>266.35</td>\n",
              "      <td>265.34</td>\n",
              "      <td>267.94</td>\n",
              "      <td>272.73</td>\n",
              "    </tr>\n",
              "    <tr>\n",
              "      <th>3</th>\n",
              "      <td>268.46</td>\n",
              "      <td>266.38</td>\n",
              "      <td>266.35</td>\n",
              "      <td>265.34</td>\n",
              "      <td>267.94</td>\n",
              "      <td>272.73</td>\n",
              "      <td>271.90</td>\n",
              "    </tr>\n",
              "    <tr>\n",
              "      <th>4</th>\n",
              "      <td>266.38</td>\n",
              "      <td>266.35</td>\n",
              "      <td>265.34</td>\n",
              "      <td>267.94</td>\n",
              "      <td>272.73</td>\n",
              "      <td>271.90</td>\n",
              "      <td>268.93</td>\n",
              "    </tr>\n",
              "    <tr>\n",
              "      <th>...</th>\n",
              "      <td>...</td>\n",
              "      <td>...</td>\n",
              "      <td>...</td>\n",
              "      <td>...</td>\n",
              "      <td>...</td>\n",
              "      <td>...</td>\n",
              "      <td>...</td>\n",
              "    </tr>\n",
              "    <tr>\n",
              "      <th>1499</th>\n",
              "      <td>1591.91</td>\n",
              "      <td>1520.91</td>\n",
              "      <td>1551.48</td>\n",
              "      <td>1495.08</td>\n",
              "      <td>1460.83</td>\n",
              "      <td>1377.45</td>\n",
              "      <td>1343.96</td>\n",
              "    </tr>\n",
              "    <tr>\n",
              "      <th>1500</th>\n",
              "      <td>1520.91</td>\n",
              "      <td>1551.48</td>\n",
              "      <td>1495.08</td>\n",
              "      <td>1460.83</td>\n",
              "      <td>1377.45</td>\n",
              "      <td>1343.96</td>\n",
              "      <td>1470.90</td>\n",
              "    </tr>\n",
              "    <tr>\n",
              "      <th>1501</th>\n",
              "      <td>1551.48</td>\n",
              "      <td>1495.08</td>\n",
              "      <td>1460.83</td>\n",
              "      <td>1377.45</td>\n",
              "      <td>1343.96</td>\n",
              "      <td>1470.90</td>\n",
              "      <td>1461.64</td>\n",
              "    </tr>\n",
              "    <tr>\n",
              "      <th>1502</th>\n",
              "      <td>1495.08</td>\n",
              "      <td>1460.83</td>\n",
              "      <td>1377.45</td>\n",
              "      <td>1343.96</td>\n",
              "      <td>1470.90</td>\n",
              "      <td>1461.64</td>\n",
              "      <td>1478.02</td>\n",
              "    </tr>\n",
              "    <tr>\n",
              "      <th>1503</th>\n",
              "      <td>1460.83</td>\n",
              "      <td>1377.45</td>\n",
              "      <td>1343.96</td>\n",
              "      <td>1470.90</td>\n",
              "      <td>1461.64</td>\n",
              "      <td>1478.02</td>\n",
              "      <td>1501.97</td>\n",
              "    </tr>\n",
              "  </tbody>\n",
              "</table>\n",
              "<p>1504 rows × 7 columns</p>\n",
              "</div>"
            ],
            "text/plain": [
              "            0        1        2        3        4        0        1\n",
              "0      257.31   258.48   259.15   268.46   266.38   266.35   265.34\n",
              "1      258.48   259.15   268.46   266.38   266.35   265.34   267.94\n",
              "2      259.15   268.46   266.38   266.35   265.34   267.94   272.73\n",
              "3      268.46   266.38   266.35   265.34   267.94   272.73   271.90\n",
              "4      266.38   266.35   265.34   267.94   272.73   271.90   268.93\n",
              "...       ...      ...      ...      ...      ...      ...      ...\n",
              "1499  1591.91  1520.91  1551.48  1495.08  1460.83  1377.45  1343.96\n",
              "1500  1520.91  1551.48  1495.08  1460.83  1377.45  1343.96  1470.90\n",
              "1501  1551.48  1495.08  1460.83  1377.45  1343.96  1470.90  1461.64\n",
              "1502  1495.08  1460.83  1377.45  1343.96  1470.90  1461.64  1478.02\n",
              "1503  1460.83  1377.45  1343.96  1470.90  1461.64  1478.02  1501.97\n",
              "\n",
              "[1504 rows x 7 columns]"
            ]
          },
          "metadata": {
            "tags": []
          },
          "execution_count": 35
        }
      ]
    },
    {
      "cell_type": "code",
      "metadata": {
        "colab": {
          "base_uri": "https://localhost:8080/",
          "height": 419
        },
        "id": "jWHAVQPYNOYA",
        "outputId": "1bc8a1f5-93a8-4165-a81a-08a2f50e49ab"
      },
      "source": [
        "X_test_see = pd.DataFrame(np.reshape(X_test, (X_test.shape[0],X_test.shape[1])))\n",
        "pd.DataFrame(X_test_see)"
      ],
      "execution_count": null,
      "outputs": [
        {
          "output_type": "execute_result",
          "data": {
            "text/html": [
              "<div>\n",
              "<style scoped>\n",
              "    .dataframe tbody tr th:only-of-type {\n",
              "        vertical-align: middle;\n",
              "    }\n",
              "\n",
              "    .dataframe tbody tr th {\n",
              "        vertical-align: top;\n",
              "    }\n",
              "\n",
              "    .dataframe thead th {\n",
              "        text-align: right;\n",
              "    }\n",
              "</style>\n",
              "<table border=\"1\" class=\"dataframe\">\n",
              "  <thead>\n",
              "    <tr style=\"text-align: right;\">\n",
              "      <th></th>\n",
              "      <th>0</th>\n",
              "      <th>1</th>\n",
              "      <th>2</th>\n",
              "      <th>3</th>\n",
              "      <th>4</th>\n",
              "    </tr>\n",
              "  </thead>\n",
              "  <tbody>\n",
              "    <tr>\n",
              "      <th>0</th>\n",
              "      <td>1343.96</td>\n",
              "      <td>1470.90</td>\n",
              "      <td>1461.64</td>\n",
              "      <td>1478.02</td>\n",
              "      <td>1501.97</td>\n",
              "    </tr>\n",
              "    <tr>\n",
              "      <th>1</th>\n",
              "      <td>1470.90</td>\n",
              "      <td>1461.64</td>\n",
              "      <td>1478.02</td>\n",
              "      <td>1501.97</td>\n",
              "      <td>1539.13</td>\n",
              "    </tr>\n",
              "    <tr>\n",
              "      <th>2</th>\n",
              "      <td>1461.64</td>\n",
              "      <td>1478.02</td>\n",
              "      <td>1501.97</td>\n",
              "      <td>1539.13</td>\n",
              "      <td>1500.28</td>\n",
              "    </tr>\n",
              "    <tr>\n",
              "      <th>3</th>\n",
              "      <td>1478.02</td>\n",
              "      <td>1501.97</td>\n",
              "      <td>1539.13</td>\n",
              "      <td>1500.28</td>\n",
              "      <td>1575.39</td>\n",
              "    </tr>\n",
              "    <tr>\n",
              "      <th>4</th>\n",
              "      <td>1501.97</td>\n",
              "      <td>1539.13</td>\n",
              "      <td>1500.28</td>\n",
              "      <td>1575.39</td>\n",
              "      <td>1629.51</td>\n",
              "    </tr>\n",
              "    <tr>\n",
              "      <th>...</th>\n",
              "      <td>...</td>\n",
              "      <td>...</td>\n",
              "      <td>...</td>\n",
              "      <td>...</td>\n",
              "      <td>...</td>\n",
              "    </tr>\n",
              "    <tr>\n",
              "      <th>244</th>\n",
              "      <td>1760.33</td>\n",
              "      <td>1760.94</td>\n",
              "      <td>1769.21</td>\n",
              "      <td>1790.66</td>\n",
              "      <td>1784.03</td>\n",
              "    </tr>\n",
              "    <tr>\n",
              "      <th>245</th>\n",
              "      <td>1760.94</td>\n",
              "      <td>1769.21</td>\n",
              "      <td>1790.66</td>\n",
              "      <td>1784.03</td>\n",
              "      <td>1792.28</td>\n",
              "    </tr>\n",
              "    <tr>\n",
              "      <th>246</th>\n",
              "      <td>1769.21</td>\n",
              "      <td>1790.66</td>\n",
              "      <td>1784.03</td>\n",
              "      <td>1792.28</td>\n",
              "      <td>1786.50</td>\n",
              "    </tr>\n",
              "    <tr>\n",
              "      <th>247</th>\n",
              "      <td>1790.66</td>\n",
              "      <td>1784.03</td>\n",
              "      <td>1792.28</td>\n",
              "      <td>1786.50</td>\n",
              "      <td>1793.00</td>\n",
              "    </tr>\n",
              "    <tr>\n",
              "      <th>248</th>\n",
              "      <td>1784.03</td>\n",
              "      <td>1792.28</td>\n",
              "      <td>1786.50</td>\n",
              "      <td>1793.00</td>\n",
              "      <td>1789.21</td>\n",
              "    </tr>\n",
              "  </tbody>\n",
              "</table>\n",
              "<p>249 rows × 5 columns</p>\n",
              "</div>"
            ],
            "text/plain": [
              "           0        1        2        3        4\n",
              "0    1343.96  1470.90  1461.64  1478.02  1501.97\n",
              "1    1470.90  1461.64  1478.02  1501.97  1539.13\n",
              "2    1461.64  1478.02  1501.97  1539.13  1500.28\n",
              "3    1478.02  1501.97  1539.13  1500.28  1575.39\n",
              "4    1501.97  1539.13  1500.28  1575.39  1629.51\n",
              "..       ...      ...      ...      ...      ...\n",
              "244  1760.33  1760.94  1769.21  1790.66  1784.03\n",
              "245  1760.94  1769.21  1790.66  1784.03  1792.28\n",
              "246  1769.21  1790.66  1784.03  1792.28  1786.50\n",
              "247  1790.66  1784.03  1792.28  1786.50  1793.00\n",
              "248  1784.03  1792.28  1786.50  1793.00  1789.21\n",
              "\n",
              "[249 rows x 5 columns]"
            ]
          },
          "metadata": {
            "tags": []
          },
          "execution_count": 36
        }
      ]
    },
    {
      "cell_type": "code",
      "metadata": {
        "colab": {
          "base_uri": "https://localhost:8080/"
        },
        "id": "KU_TwANkNQ26",
        "outputId": "1eb7b6c8-bc48-4939-d046-7146fe81f3dd"
      },
      "source": [
        "print(\"There are \" + str(X_train.shape[0]) + \" samples in the training data\")\n",
        "print(\"There are \" + str(X_test.shape[0]) + \" samples in the test data\")"
      ],
      "execution_count": null,
      "outputs": [
        {
          "output_type": "stream",
          "text": [
            "There are 1504 samples in the training data\n",
            "There are 249 samples in the test data\n"
          ],
          "name": "stdout"
        }
      ]
    },
    {
      "cell_type": "code",
      "metadata": {
        "colab": {
          "base_uri": "https://localhost:8080/"
        },
        "id": "zBKvyKRUNTA9",
        "outputId": "91c98c38-d47b-4cac-ef81-f5f08984917c"
      },
      "source": [
        "def simple_rnn_model(X_train, y_train, X_test):\n",
        "    '''\n",
        "    create single layer rnn model trained on X_train and y_train\n",
        "    and make predictions on the X_test data\n",
        "    '''\n",
        "    # create a model\n",
        "    from keras.models import Sequential\n",
        "    from keras.layers import Dense, SimpleRNN\n",
        "    \n",
        "    my_rnn_model = Sequential()\n",
        "    my_rnn_model.add(SimpleRNN(32, return_sequences=True))\n",
        "    #my_rnn_model.add(SimpleRNN(32, return_sequences=True))\n",
        "    #my_rnn_model.add(SimpleRNN(32, return_sequences=True))\n",
        "    my_rnn_model.add(SimpleRNN(32))\n",
        "    my_rnn_model.add(Dense(2)) # The time step of the output\n",
        "\n",
        "    my_rnn_model.compile(optimizer='rmsprop', loss='mean_squared_error')\n",
        "\n",
        "    # fit the RNN model\n",
        "    my_rnn_model.fit(X_train, y_train, epochs=100, batch_size=150, verbose=0)\n",
        "\n",
        "    # Finalizing predictions\n",
        "    rnn_predictions = my_rnn_model.predict(X_test)\n",
        "\n",
        "    return my_rnn_model, rnn_predictions\n",
        "\n",
        "my_rnn_model, rnn_predictions = simple_rnn_model(X_train, y_train, X_test)\n",
        "rnn_predictions[1:10]"
      ],
      "execution_count": null,
      "outputs": [
        {
          "output_type": "execute_result",
          "data": {
            "text/plain": [
              "array([[42.11214 , 38.496113],\n",
              "       [42.11214 , 38.496113],\n",
              "       [42.11214 , 38.496113],\n",
              "       [42.11214 , 38.496113],\n",
              "       [42.11214 , 38.496113],\n",
              "       [42.11214 , 38.496113],\n",
              "       [42.11214 , 38.496113],\n",
              "       [42.11214 , 38.496113],\n",
              "       [42.11214 , 38.496113]], dtype=float32)"
            ]
          },
          "metadata": {
            "tags": []
          },
          "execution_count": 38
        }
      ]
    },
    {
      "cell_type": "code",
      "metadata": {
        "colab": {
          "base_uri": "https://localhost:8080/",
          "height": 294
        },
        "id": "mMZVjT2yNVdz",
        "outputId": "8ea8e45b-a117-49e2-c0d5-4f5292431d1f"
      },
      "source": [
        "def actual_pred_plot(preds):\n",
        "    actual_pred = pd.DataFrame(columns = ['Adj. Close', 'prediction'])\n",
        "    actual_pred['Adj. Close'] = all_data.loc['2019':,'Adj Close'][0:len(preds)]\n",
        "    actual_pred['prediction'] = preds[:,0]\n",
        "\n",
        "    from keras.metrics import MeanSquaredError\n",
        "    m = MeanSquaredError()\n",
        "    m.update_state(np.array(actual_pred['Adj. Close']),np.array(actual_pred['prediction']))\n",
        "    \n",
        "    return (m.result().numpy(), actual_pred.plot() )\n",
        "    \n",
        "actual_pred_plot(rnn_predictions)"
      ],
      "execution_count": null,
      "outputs": [
        {
          "output_type": "execute_result",
          "data": {
            "text/plain": [
              "(3059807.8, <matplotlib.axes._subplots.AxesSubplot at 0x7fdd7bc3fc10>)"
            ]
          },
          "metadata": {
            "tags": []
          },
          "execution_count": 39
        },
        {
          "output_type": "display_data",
          "data": {
            "image/png": "[encoded data removed]",
            "text/plain": [
              "<Figure size 432x288 with 1 Axes>"
            ]
          },
          "metadata": {
            "tags": [],
            "needs_background": "light"
          }
        }
      ]
    },
    {
      "cell_type": "code",
      "metadata": {
        "colab": {
          "base_uri": "https://localhost:8080/",
          "height": 294
        },
        "id": "tn-C8ZtiNZCg",
        "outputId": "be31f6ed-a113-4daf-9548-348614cbc6ba"
      },
      "source": [
        "def ts_train_test_normalize(all_data,time_steps,for_periods):\n",
        "    ed MinMaxScaler object fit to the training data\n",
        "    \n",
        "    # create training and test set\n",
        "    ts_train = all_data[:'2018'].iloc[:,0:1].values\n",
        "    ts_test  = all_data['2019':].iloc[:,0:1].values\n",
        "    ts_train_len = len(ts_train)\n",
        "    ts_test_len = len(ts_test)\n",
        "\n",
        "    # scale the data\n",
        "    from sklearn.preprocessing import MinMaxScaler\n",
        "    sc = MinMaxScaler(feature_range=(0,1))\n",
        "    ts_train_scaled = sc.fit_transform(ts_train)\n",
        "\n",
        "    # create training data of s samples and t time steps\n",
        "    X_train = []\n",
        "    y_train = []\n",
        "    y_train_stacked = []\n",
        "    for i in range(time_steps,ts_train_len-1): \n",
        "        X_train.append(ts_train_scaled[i-time_steps:i,0])\n",
        "        y_train.append(ts_train_scaled[i:i+for_periods,0])\n",
        "    X_train, y_train = np.array(X_train), np.array(y_train)\n",
        "\n",
        "    # Reshaping X_train for efficient modelling\n",
        "    X_train = np.reshape(X_train, (X_train.shape[0],X_train.shape[1],1))\n",
        "\n",
        "    inputs = pd.concat((all_data[\"Adj Close\"][:'2018'], all_data[\"Adj Close\"]['2019':]),axis=0).values\n",
        "    inputs = inputs[len(inputs)-len(ts_test) - time_steps:]\n",
        "    inputs = inputs.reshape(-1,1)\n",
        "    inputs  = sc.transform(inputs)\n",
        "\n",
        "    # Preparing X_test\n",
        "    X_test = []\n",
        "    for i in range(time_steps,ts_test_len+time_steps-for_periods):\n",
        "        X_test.append(inputs[i-time_steps:i,0])\n",
        "        \n",
        "    X_test = np.array(X_test)\n",
        "    X_test = np.reshape(X_test, (X_test.shape[0],X_test.shape[1],1))\n",
        "\n",
        "    return X_train, y_train , X_test, sc\n",
        "\n",
        "def simple_rnn_model(X_train, y_train, X_test, sc):\n",
        "    '''\n",
        "    create single layer rnn model trained on X_train and y_train\n",
        "    and make predictions on the X_test data\n",
        "    '''\n",
        "    # create a model\n",
        "    from keras.models import Sequential\n",
        "    from keras.layers import Dense, SimpleRNN\n",
        "    \n",
        "    my_rnn_model = Sequential()\n",
        "    my_rnn_model.add(SimpleRNN(32, return_sequences=True))\n",
        "    #my_rnn_model.add(SimpleRNN(32, return_sequences=True))\n",
        "    #my_rnn_model.add(SimpleRNN(32, return_sequences=True))\n",
        "    my_rnn_model.add(SimpleRNN(32))\n",
        "    my_rnn_model.add(Dense(2)) # The time step of the output\n",
        "\n",
        "    my_rnn_model.compile(optimizer='rmsprop', loss='mean_squared_error')\n",
        "\n",
        "    # fit the RNN model\n",
        "    my_rnn_model.fit(X_train, y_train, epochs=100, batch_size=150, verbose=0)\n",
        "\n",
        "    # Finalizing predictions\n",
        "    rnn_predictions = my_rnn_model.predict(X_test)\n",
        "    from sklearn.preprocessing import MinMaxScaler\n",
        "    rnn_predictions = sc.inverse_transform(rnn_predictions)\n",
        "\n",
        "    return my_rnn_model, rnn_predictions\n",
        "\n",
        "\n",
        "X_train, y_train, X_test, sc = ts_train_test_normalize(all_data,5,2)\n",
        "my_rnn_model, rnn_predictions_2 = simple_rnn_model(X_train, y_train, X_test, sc)\n",
        "rnn_predictions_2[1:10]\n",
        "actual_pred_plot(rnn_predictions_2)"
      ],
      "execution_count": null,
      "outputs": [
        {
          "output_type": "execute_result",
          "data": {
            "text/plain": [
              "(2943.5588, <matplotlib.axes._subplots.AxesSubplot at 0x7fdd7a743cd0>)"
            ]
          },
          "metadata": {
            "tags": []
          },
          "execution_count": 40
        },
        {
          "output_type": "display_data",
          "data": {
            "image/png": "[encoded data removed]",
            "text/plain": [
              "<Figure size 432x288 with 1 Axes>"
            ]
          },
          "metadata": {
            "tags": [],
            "needs_background": "light"
          }
        }
      ]
    },
    {
      "cell_type": "code",
      "metadata": {
        "colab": {
          "base_uri": "https://localhost:8080/",
          "height": 294
        },
        "id": "uXjXsVUxOWvP",
        "outputId": "8ded30dc-dd79-422b-b810-e16d88bad9c1"
      },
      "source": [
        "def GRU_model(X_train, y_train, X_test, sc):\n",
        "    # create a model\n",
        "    from keras.models import Sequential\n",
        "    from keras.layers import Dense, SimpleRNN, GRU\n",
        "    from keras.optimizers import SGD\n",
        "    \n",
        "    # The GRU architecture\n",
        "    my_GRU_model = Sequential()\n",
        "    # First GRU layer with Dropout regularisation\n",
        "    my_GRU_model.add(GRU(units=50, return_sequences=True, input_shape=(X_train.shape[1],1), activation='tanh'))\n",
        "    #my_GRU_model.add(GRU(units=50, return_sequences=True, input_shape=(X_train.shape[1],1), activation='tanh'))\n",
        "    #my_GRU_model.add(GRU(units=50, return_sequences=True, input_shape=(X_train.shape[1],1), activation='tanh'))\n",
        "    my_GRU_model.add(GRU(units=50, activation='tanh'))\n",
        "    my_GRU_model.add(Dense(units=2))\n",
        "\n",
        "    # Compiling the RNN\n",
        "    my_GRU_model.compile(optimizer=SGD(lr=0.01, decay=1e-7, momentum=0.9, nesterov=False),loss='mean_squared_error')\n",
        "    # Fitting to the training set\n",
        "    my_GRU_model.fit(X_train,y_train,epochs=50,batch_size=150, verbose=0)\n",
        "\n",
        "    GRU_prediction = my_GRU_model.predict(X_test)\n",
        "    GRU_prediction = sc.inverse_transform(GRU_prediction)\n",
        "\n",
        "    return my_GRU_model, GRU_prediction\n",
        "\n",
        "my_GRU_model, GRU_prediction = GRU_model(X_train, y_train, X_test, sc)\n",
        "GRU_prediction[1:10]\n",
        "actual_pred_plot(GRU_prediction)"
      ],
      "execution_count": null,
      "outputs": [
        {
          "output_type": "execute_result",
          "data": {
            "text/plain": [
              "(1318.2103, <matplotlib.axes._subplots.AxesSubplot at 0x7fdd78bf8450>)"
            ]
          },
          "metadata": {
            "tags": []
          },
          "execution_count": 41
        },
        {
          "output_type": "display_data",
          "data": {
            "image/png": "[encoded data removed]",
            "text/plain": [
              "<Figure size 432x288 with 1 Axes>"
            ]
          },
          "metadata": {
            "tags": [],
            "needs_background": "light"
          }
        }
      ]
    },
    {
      "cell_type": "code",
      "metadata": {
        "colab": {
          "base_uri": "https://localhost:8080/",
          "height": 294
        },
        "id": "aFkdJD2tOXOL",
        "outputId": "b44ae4b0-6ce8-4298-d6f4-bc17b62272c1"
      },
      "source": [
        "def GRU_model_regularization(X_train, y_train, X_test, sc):\n",
        "    '''\n",
        "    create GRU model trained on X_train and y_train\n",
        "    and make predictions on the X_test data\n",
        "    '''\n",
        "    # create a model\n",
        "    from keras.models import Sequential\n",
        "    from keras.layers import Dense, SimpleRNN, GRU\n",
        "    from keras.optimizers import SGD\n",
        "    from keras.layers import Dropout\n",
        "    \n",
        "    # The GRU architecture\n",
        "    my_GRU_model = Sequential()\n",
        "    \n",
        "    # First GRU layer with Dropout regularisation\n",
        "    my_GRU_model.add(GRU(units=50, return_sequences=True, input_shape=(X_train.shape[1],1), activation='tanh'))\n",
        "    my_GRU_model.add(Dropout(0.2))\n",
        "    \n",
        "    # Second GRU layer\n",
        "    my_GRU_model.add(GRU(units=50, return_sequences=True, activation='tanh'))\n",
        "    my_GRU_model.add(Dropout(0.2))\n",
        "    \n",
        "\n",
        "    # Third GRU layer\n",
        "    my_GRU_model.add(GRU(units=50, return_sequences=True, activation='tanh'))\n",
        "    my_GRU_model.add(Dropout(0.2))\n",
        "\n",
        "    # Fourth GRU layer\n",
        "    my_GRU_model.add(GRU(units=50, activation='tanh'))\n",
        "    my_GRU_model.add(Dropout(0.2))\n",
        "    \n",
        "    # The output layer\n",
        "    my_GRU_model.add(Dense(units=1))\n",
        "    \n",
        "    # Compiling the RNN\n",
        "    my_GRU_model.compile(optimizer=SGD(lr=0.01, decay=1e-7, momentum=0.9, nesterov=False),loss='mean_squared_error')\n",
        "    \n",
        "    # Fitting to the training set\n",
        "    my_GRU_model.fit(X_train,y_train,epochs=50,batch_size=150, verbose=0)\n",
        "\n",
        "    GRU_predictions = my_GRU_model.predict(X_test)\n",
        "    GRU_predictions = sc.inverse_transform(GRU_predictions)\n",
        "\n",
        "    return my_GRU_model, GRU_predictions\n",
        "\n",
        "my_GRU_model, GRU_predictions = GRU_model_regularization(X_train, y_train, X_test, sc)\n",
        "GRU_predictions[1:10]\n",
        "actual_pred_plot(GRU_prediction)"
      ],
      "execution_count": null,
      "outputs": [
        {
          "output_type": "execute_result",
          "data": {
            "text/plain": [
              "(1318.2103, <matplotlib.axes._subplots.AxesSubplot at 0x7fdd77d89390>)"
            ]
          },
          "metadata": {
            "tags": []
          },
          "execution_count": 42
        },
        {
          "output_type": "display_data",
          "data": {
            "image/png": "[encoded data removed]",
            "text/plain": [
              "<Figure size 432x288 with 1 Axes>"
            ]
          },
          "metadata": {
            "tags": [],
            "needs_background": "light"
          }
        }
      ]
    }
  ]
}