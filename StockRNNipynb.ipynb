{
  "nbformat": 4,
  "nbformat_minor": 0,
  "metadata": {
    "colab": {
      "name": "StockRNNipynb",
      "provenance": [],
      "mount_file_id": "1Bcx-hiqqyIZ4CUFQQ9S7-D-7-Tbco_qU",
      "authorship_tag": "ABX9TyO3SEzft10rDTwknd3xnB7K",
      "include_colab_link": true
    },
    "kernelspec": {
      "name": "python3",
      "display_name": "Python 3"
    },
    "language_info": {
      "name": "python"
    }
  },
  "cells": [
    {
      "cell_type": "markdown",
      "metadata": {
        "id": "view-in-github",
        "colab_type": "text"
      },
      "source": [
        "<a href=\"https://colab.research.google.com/github/AkhandSingh96/Stock-Market-Prediction-Using-Deep-Learning-/blob/main/StockRNNipynb.ipynb\" target=\"_parent\"><img src=\"https://colab.research.google.com/assets/colab-badge.svg\" alt=\"Open In Colab\"/></a>"
      ]
    },
    {
      "cell_type": "markdown",
      "metadata": {
        "id": "chIt_Sa6O1O7"
      },
      "source": [
        "# Importing the required libraries.\n"
      ]
    },
    {
      "cell_type": "code",
      "metadata": {
        "id": "JM8GpxDLgoii"
      },
      "source": [
        "from keras.models import Sequential\n",
        "from keras.layers import Dense, SimpleRNN, GRU\n",
        "from keras.optimizers import SGD\n",
        "from keras.layers import Dropout\n",
        "from keras.models import Sequential\n",
        "from keras.layers import Dense, SimpleRNN, GRU\n",
        "from keras.optimizers import SGD\n",
        "from sklearn.preprocessing import MinMaxScaler\n",
        "import numpy as np"
      ],
      "execution_count": 13,
      "outputs": []
    },
    {
      "cell_type": "code",
      "metadata": {
        "colab": {
          "base_uri": "https://localhost:8080/"
        },
        "id": "odHnmNgkM86h",
        "outputId": "4b5b2356-95d4-4000-fb5e-52788a66f8e6"
      },
      "source": [
        "!pip install yahoofinancials\n",
        "!pip install yfinance"
      ],
      "execution_count": 2,
      "outputs": [
        {
          "output_type": "stream",
          "text": [
            "Collecting yahoofinancials\n",
            "  Downloading https://files.pythonhosted.org/packages/97/fe/be0f6ea704137848779fc61e7d1c9a901489aaf3423cd7b6f86a350c14c6/yahoofinancials-1.6.tar.gz\n",
            "Requirement already satisfied: beautifulsoup4 in /usr/local/lib/python3.7/dist-packages (from yahoofinancials) (4.6.3)\n",
            "Requirement already satisfied: pytz in /usr/local/lib/python3.7/dist-packages (from yahoofinancials) (2018.9)\n",
            "Building wheels for collected packages: yahoofinancials\n",
            "  Building wheel for yahoofinancials (setup.py) ... \u001b[?25l\u001b[?25hdone\n",
            "  Created wheel for yahoofinancials: filename=yahoofinancials-1.6-cp37-none-any.whl size=15192 sha256=420e70792d61a338c3397ce1b99f17eb8c4bed989bd8ea880b92525152c3eeef\n",
            "  Stored in directory: /root/.cache/pip/wheels/d9/7e/cf/4977a8572d5247242a4b13018d1d36923024ba84236e0d28bc\n",
            "Successfully built yahoofinancials\n",
            "Installing collected packages: yahoofinancials\n",
            "Successfully installed yahoofinancials-1.6\n",
            "Collecting yfinance\n",
            "  Downloading https://files.pythonhosted.org/packages/a7/ee/315752b9ef281ba83c62aa7ec2e2074f85223da6e7e74efb4d3e11c0f510/yfinance-0.1.59.tar.gz\n",
            "Requirement already satisfied: pandas>=0.24 in /usr/local/lib/python3.7/dist-packages (from yfinance) (1.1.5)\n",
            "Requirement already satisfied: numpy>=1.15 in /usr/local/lib/python3.7/dist-packages (from yfinance) (1.19.5)\n",
            "Requirement already satisfied: requests>=2.20 in /usr/local/lib/python3.7/dist-packages (from yfinance) (2.23.0)\n",
            "Requirement already satisfied: multitasking>=0.0.7 in /usr/local/lib/python3.7/dist-packages (from yfinance) (0.0.9)\n",
            "Collecting lxml>=4.5.1\n",
            "\u001b[?25l  Downloading https://files.pythonhosted.org/packages/30/c0/d0526314971fc661b083ab135747dc68446a3022686da8c16d25fcf6ef07/lxml-4.6.3-cp37-cp37m-manylinux2014_x86_64.whl (6.3MB)\n",
            "\u001b[K     |████████████████████████████████| 6.3MB 3.2MB/s \n",
            "\u001b[?25hRequirement already satisfied: python-dateutil>=2.7.3 in /usr/local/lib/python3.7/dist-packages (from pandas>=0.24->yfinance) (2.8.1)\n",
            "Requirement already satisfied: pytz>=2017.2 in /usr/local/lib/python3.7/dist-packages (from pandas>=0.24->yfinance) (2018.9)\n",
            "Requirement already satisfied: chardet<4,>=3.0.2 in /usr/local/lib/python3.7/dist-packages (from requests>=2.20->yfinance) (3.0.4)\n",
            "Requirement already satisfied: idna<3,>=2.5 in /usr/local/lib/python3.7/dist-packages (from requests>=2.20->yfinance) (2.10)\n",
            "Requirement already satisfied: urllib3!=1.25.0,!=1.25.1,<1.26,>=1.21.1 in /usr/local/lib/python3.7/dist-packages (from requests>=2.20->yfinance) (1.24.3)\n",
            "Requirement already satisfied: certifi>=2017.4.17 in /usr/local/lib/python3.7/dist-packages (from requests>=2.20->yfinance) (2020.12.5)\n",
            "Requirement already satisfied: six>=1.5 in /usr/local/lib/python3.7/dist-packages (from python-dateutil>=2.7.3->pandas>=0.24->yfinance) (1.15.0)\n",
            "Building wheels for collected packages: yfinance\n",
            "  Building wheel for yfinance (setup.py) ... \u001b[?25l\u001b[?25hdone\n",
            "  Created wheel for yfinance: filename=yfinance-0.1.59-py2.py3-none-any.whl size=23442 sha256=2e079e5850cf0d651a79123b372f98e6416c6c8d9ee97178319fac9d0ab42c96\n",
            "  Stored in directory: /root/.cache/pip/wheels/f8/2a/0f/4b5a86e1d52e451757eb6bc17fd899629f0925c777741b6d04\n",
            "Successfully built yfinance\n",
            "Installing collected packages: lxml, yfinance\n",
            "  Found existing installation: lxml 4.2.6\n",
            "    Uninstalling lxml-4.2.6:\n",
            "      Successfully uninstalled lxml-4.2.6\n",
            "Successfully installed lxml-4.6.3 yfinance-0.1.59\n"
          ],
          "name": "stdout"
        }
      ]
    },
    {
      "cell_type": "markdown",
      "metadata": {
        "id": "d9SLAzg9bg7m"
      },
      "source": [
        "# Preparing and preprocessing the dataset."
      ]
    },
    {
      "cell_type": "code",
      "metadata": {
        "colab": {
          "base_uri": "https://localhost:8080/",
          "height": 390
        },
        "id": "Z4nXzU4d8RXD",
        "outputId": "fd9a2a2c-a3bd-4a7c-b8d5-04a7bca67826"
      },
      "source": [
        "import pandas as pd\n",
        "import yfinance as yf\n",
        "from yahoofinancials import YahooFinancials\n",
        "\n",
        "AMZN = yf.download('AMZN', start='2013-01-01', end='2019-12-31',progress=False)\n",
        "all_data = AMZN[['Adj Close','Open', 'High', 'Low', 'Close', 'Volume']].round(2)\n",
        "all_data.head(10)"
      ],
      "execution_count": 3,
      "outputs": [
        {
          "output_type": "execute_result",
          "data": {
            "text/html": [
              "<div>\n",
              "<style scoped>\n",
              "    .dataframe tbody tr th:only-of-type {\n",
              "        vertical-align: middle;\n",
              "    }\n",
              "\n",
              "    .dataframe tbody tr th {\n",
              "        vertical-align: top;\n",
              "    }\n",
              "\n",
              "    .dataframe thead th {\n",
              "        text-align: right;\n",
              "    }\n",
              "</style>\n",
              "<table border=\"1\" class=\"dataframe\">\n",
              "  <thead>\n",
              "    <tr style=\"text-align: right;\">\n",
              "      <th></th>\n",
              "      <th>Adj Close</th>\n",
              "      <th>Open</th>\n",
              "      <th>High</th>\n",
              "      <th>Low</th>\n",
              "      <th>Close</th>\n",
              "      <th>Volume</th>\n",
              "    </tr>\n",
              "    <tr>\n",
              "      <th>Date</th>\n",
              "      <th></th>\n",
              "      <th></th>\n",
              "      <th></th>\n",
              "      <th></th>\n",
              "      <th></th>\n",
              "      <th></th>\n",
              "    </tr>\n",
              "  </thead>\n",
              "  <tbody>\n",
              "    <tr>\n",
              "      <th>2013-01-02</th>\n",
              "      <td>257.31</td>\n",
              "      <td>256.08</td>\n",
              "      <td>258.10</td>\n",
              "      <td>253.26</td>\n",
              "      <td>257.31</td>\n",
              "      <td>3271000</td>\n",
              "    </tr>\n",
              "    <tr>\n",
              "      <th>2013-01-03</th>\n",
              "      <td>258.48</td>\n",
              "      <td>257.27</td>\n",
              "      <td>260.88</td>\n",
              "      <td>256.37</td>\n",
              "      <td>258.48</td>\n",
              "      <td>2750900</td>\n",
              "    </tr>\n",
              "    <tr>\n",
              "      <th>2013-01-04</th>\n",
              "      <td>259.15</td>\n",
              "      <td>257.58</td>\n",
              "      <td>259.80</td>\n",
              "      <td>256.65</td>\n",
              "      <td>259.15</td>\n",
              "      <td>1874200</td>\n",
              "    </tr>\n",
              "    <tr>\n",
              "      <th>2013-01-07</th>\n",
              "      <td>268.46</td>\n",
              "      <td>262.97</td>\n",
              "      <td>269.73</td>\n",
              "      <td>262.67</td>\n",
              "      <td>268.46</td>\n",
              "      <td>4910000</td>\n",
              "    </tr>\n",
              "    <tr>\n",
              "      <th>2013-01-08</th>\n",
              "      <td>266.38</td>\n",
              "      <td>267.07</td>\n",
              "      <td>268.98</td>\n",
              "      <td>263.57</td>\n",
              "      <td>266.38</td>\n",
              "      <td>3010700</td>\n",
              "    </tr>\n",
              "    <tr>\n",
              "      <th>2013-01-09</th>\n",
              "      <td>266.35</td>\n",
              "      <td>268.17</td>\n",
              "      <td>269.50</td>\n",
              "      <td>265.40</td>\n",
              "      <td>266.35</td>\n",
              "      <td>2265600</td>\n",
              "    </tr>\n",
              "    <tr>\n",
              "      <th>2013-01-10</th>\n",
              "      <td>265.34</td>\n",
              "      <td>268.54</td>\n",
              "      <td>268.74</td>\n",
              "      <td>262.30</td>\n",
              "      <td>265.34</td>\n",
              "      <td>2863400</td>\n",
              "    </tr>\n",
              "    <tr>\n",
              "      <th>2013-01-11</th>\n",
              "      <td>267.94</td>\n",
              "      <td>265.10</td>\n",
              "      <td>268.43</td>\n",
              "      <td>264.11</td>\n",
              "      <td>267.94</td>\n",
              "      <td>2413300</td>\n",
              "    </tr>\n",
              "    <tr>\n",
              "      <th>2013-01-14</th>\n",
              "      <td>272.73</td>\n",
              "      <td>268.00</td>\n",
              "      <td>274.26</td>\n",
              "      <td>267.54</td>\n",
              "      <td>272.73</td>\n",
              "      <td>4275000</td>\n",
              "    </tr>\n",
              "    <tr>\n",
              "      <th>2013-01-15</th>\n",
              "      <td>271.90</td>\n",
              "      <td>270.68</td>\n",
              "      <td>272.73</td>\n",
              "      <td>269.30</td>\n",
              "      <td>271.90</td>\n",
              "      <td>2326900</td>\n",
              "    </tr>\n",
              "  </tbody>\n",
              "</table>\n",
              "</div>"
            ],
            "text/plain": [
              "            Adj Close    Open    High     Low   Close   Volume\n",
              "Date                                                          \n",
              "2013-01-02     257.31  256.08  258.10  253.26  257.31  3271000\n",
              "2013-01-03     258.48  257.27  260.88  256.37  258.48  2750900\n",
              "2013-01-04     259.15  257.58  259.80  256.65  259.15  1874200\n",
              "2013-01-07     268.46  262.97  269.73  262.67  268.46  4910000\n",
              "2013-01-08     266.38  267.07  268.98  263.57  266.38  3010700\n",
              "2013-01-09     266.35  268.17  269.50  265.40  266.35  2265600\n",
              "2013-01-10     265.34  268.54  268.74  262.30  265.34  2863400\n",
              "2013-01-11     267.94  265.10  268.43  264.11  267.94  2413300\n",
              "2013-01-14     272.73  268.00  274.26  267.54  272.73  4275000\n",
              "2013-01-15     271.90  270.68  272.73  269.30  271.90  2326900"
            ]
          },
          "metadata": {
            "tags": []
          },
          "execution_count": 3
        }
      ]
    },
    {
      "cell_type": "code",
      "metadata": {
        "id": "RMHDsz1IHE2u",
        "colab": {
          "base_uri": "https://localhost:8080/",
          "height": 286
        },
        "outputId": "fb643ad1-6be8-40ac-8cf3-9687c45a1966"
      },
      "source": [
        "all_data['Adj Close'].plot()"
      ],
      "execution_count": 4,
      "outputs": [
        {
          "output_type": "execute_result",
          "data": {
            "text/plain": [
              "<matplotlib.axes._subplots.AxesSubplot at 0x7f1babe54b10>"
            ]
          },
          "metadata": {
            "tags": []
          },
          "execution_count": 4
        },
        {
          "output_type": "display_data",
          "data": {
            "image/png": "[encoded data removed]",
            "text/plain": [
              "<Figure size 432x288 with 1 Axes>"
            ]
          },
          "metadata": {
            "tags": [],
            "needs_background": "light"
          }
        }
      ]
    },
    {
      "cell_type": "code",
      "metadata": {
        "colab": {
          "base_uri": "https://localhost:8080/"
        },
        "id": "eBgewq61NE9N",
        "outputId": "89077d5b-7583-4683-d7c5-d81667425754"
      },
      "source": [
        "print(\"There are \"+ str(all_data[:'2018'].shape[0]) + \" observations in the training data\")\n",
        "print(\"There are \"+ str(all_data['2019':].shape[0]) + \" observations in the test data\")"
      ],
      "execution_count": 5,
      "outputs": [
        {
          "output_type": "stream",
          "text": [
            "There are 1510 observations in the training data\n",
            "There are 251 observations in the test data\n"
          ],
          "name": "stdout"
        }
      ]
    },
    {
      "cell_type": "markdown",
      "metadata": {
        "id": "ESy41NXv5oLw"
      },
      "source": [
        "Function for splitting the dataset."
      ]
    },
    {
      "cell_type": "code",
      "metadata": {
        "colab": {
          "base_uri": "https://localhost:8080/"
        },
        "id": "ZcCNBXBiNHY3",
        "outputId": "b676e3ca-68bc-471f-9399-2f2d92c9c49c"
      },
      "source": [
        "def train_test_split(all_data,time_steps,for_periods):\n",
        "    \n",
        "    train = all_data[:'2018'].iloc[:,0:1].values\n",
        "    test  = all_data['2019':].iloc[:,0:1].values\n",
        "    train_len = len(train)\n",
        "    test_len = len(test)\n",
        "\n",
        "    \n",
        "    X_train = []\n",
        "    y_train = []\n",
        "    X_train_stacked = []\n",
        "    for i in range(time_steps,train_len-1): \n",
        "        X_train.append(train[i-time_steps:i,0])\n",
        "        y_train.append(train[i:i+for_periods,0])\n",
        "    X_train, y_train = np.array(X_train), np.array(y_train)\n",
        "\n",
        " \n",
        "    X_train = np.reshape(X_train, (X_train.shape[0],X_train.shape[1],1))\n",
        "\n",
        "    inputs = pd.concat((all_data[\"Adj Close\"][:'2018'], all_data[\"Adj Close\"]['2019':]),axis=0).values\n",
        "    inputs = inputs[len(inputs)-len(test) - time_steps:]\n",
        "    inputs = inputs.reshape(-1,1)\n",
        "\n",
        "  \n",
        "    X_test = []\n",
        "    for i in range(time_steps,test_len+time_steps-for_periods):\n",
        "        X_test.append(inputs[i-time_steps:i,0])\n",
        "        \n",
        "    X_test = np.array(X_test)\n",
        "    X_test = np.reshape(X_test, (X_test.shape[0],X_test.shape[1],1))\n",
        "\n",
        "    return X_train, y_train , X_test\n",
        "\n",
        "X_train, y_train, X_test = train_test_split(all_data,5,2)\n",
        "X_train.shape[0],X_train.shape[1]"
      ],
      "execution_count": 14,
      "outputs": [
        {
          "output_type": "execute_result",
          "data": {
            "text/plain": [
              "(1504, 5)"
            ]
          },
          "metadata": {
            "tags": []
          },
          "execution_count": 14
        }
      ]
    },
    {
      "cell_type": "code",
      "metadata": {
        "colab": {
          "base_uri": "https://localhost:8080/",
          "height": 419
        },
        "id": "cFkbMZsTNLtp",
        "outputId": "320cfaf5-d427-4a6f-d341-eff0c4ed6dc6"
      },
      "source": [
        "X_train_see = pd.DataFrame(np.reshape(X_train, (X_train.shape[0],X_train.shape[1])))\n",
        "y_train_see = pd.DataFrame(y_train)\n",
        "pd.concat([X_train_see,y_train_see],axis=1)"
      ],
      "execution_count": 15,
      "outputs": [
        {
          "output_type": "execute_result",
          "data": {
            "text/html": [
              "<div>\n",
              "<style scoped>\n",
              "    .dataframe tbody tr th:only-of-type {\n",
              "        vertical-align: middle;\n",
              "    }\n",
              "\n",
              "    .dataframe tbody tr th {\n",
              "        vertical-align: top;\n",
              "    }\n",
              "\n",
              "    .dataframe thead th {\n",
              "        text-align: right;\n",
              "    }\n",
              "</style>\n",
              "<table border=\"1\" class=\"dataframe\">\n",
              "  <thead>\n",
              "    <tr style=\"text-align: right;\">\n",
              "      <th></th>\n",
              "      <th>0</th>\n",
              "      <th>1</th>\n",
              "      <th>2</th>\n",
              "      <th>3</th>\n",
              "      <th>4</th>\n",
              "      <th>0</th>\n",
              "      <th>1</th>\n",
              "    </tr>\n",
              "  </thead>\n",
              "  <tbody>\n",
              "    <tr>\n",
              "      <th>0</th>\n",
              "      <td>257.31</td>\n",
              "      <td>258.48</td>\n",
              "      <td>259.15</td>\n",
              "      <td>268.46</td>\n",
              "      <td>266.38</td>\n",
              "      <td>266.35</td>\n",
              "      <td>265.34</td>\n",
              "    </tr>\n",
              "    <tr>\n",
              "      <th>1</th>\n",
              "      <td>258.48</td>\n",
              "      <td>259.15</td>\n",
              "      <td>268.46</td>\n",
              "      <td>266.38</td>\n",
              "      <td>266.35</td>\n",
              "      <td>265.34</td>\n",
              "      <td>267.94</td>\n",
              "    </tr>\n",
              "    <tr>\n",
              "      <th>2</th>\n",
              "      <td>259.15</td>\n",
              "      <td>268.46</td>\n",
              "      <td>266.38</td>\n",
              "      <td>266.35</td>\n",
              "      <td>265.34</td>\n",
              "      <td>267.94</td>\n",
              "      <td>272.73</td>\n",
              "    </tr>\n",
              "    <tr>\n",
              "      <th>3</th>\n",
              "      <td>268.46</td>\n",
              "      <td>266.38</td>\n",
              "      <td>266.35</td>\n",
              "      <td>265.34</td>\n",
              "      <td>267.94</td>\n",
              "      <td>272.73</td>\n",
              "      <td>271.90</td>\n",
              "    </tr>\n",
              "    <tr>\n",
              "      <th>4</th>\n",
              "      <td>266.38</td>\n",
              "      <td>266.35</td>\n",
              "      <td>265.34</td>\n",
              "      <td>267.94</td>\n",
              "      <td>272.73</td>\n",
              "      <td>271.90</td>\n",
              "      <td>268.93</td>\n",
              "    </tr>\n",
              "    <tr>\n",
              "      <th>...</th>\n",
              "      <td>...</td>\n",
              "      <td>...</td>\n",
              "      <td>...</td>\n",
              "      <td>...</td>\n",
              "      <td>...</td>\n",
              "      <td>...</td>\n",
              "      <td>...</td>\n",
              "    </tr>\n",
              "    <tr>\n",
              "      <th>1499</th>\n",
              "      <td>1591.91</td>\n",
              "      <td>1520.91</td>\n",
              "      <td>1551.48</td>\n",
              "      <td>1495.08</td>\n",
              "      <td>1460.83</td>\n",
              "      <td>1377.45</td>\n",
              "      <td>1343.96</td>\n",
              "    </tr>\n",
              "    <tr>\n",
              "      <th>1500</th>\n",
              "      <td>1520.91</td>\n",
              "      <td>1551.48</td>\n",
              "      <td>1495.08</td>\n",
              "      <td>1460.83</td>\n",
              "      <td>1377.45</td>\n",
              "      <td>1343.96</td>\n",
              "      <td>1470.90</td>\n",
              "    </tr>\n",
              "    <tr>\n",
              "      <th>1501</th>\n",
              "      <td>1551.48</td>\n",
              "      <td>1495.08</td>\n",
              "      <td>1460.83</td>\n",
              "      <td>1377.45</td>\n",
              "      <td>1343.96</td>\n",
              "      <td>1470.90</td>\n",
              "      <td>1461.64</td>\n",
              "    </tr>\n",
              "    <tr>\n",
              "      <th>1502</th>\n",
              "      <td>1495.08</td>\n",
              "      <td>1460.83</td>\n",
              "      <td>1377.45</td>\n",
              "      <td>1343.96</td>\n",
              "      <td>1470.90</td>\n",
              "      <td>1461.64</td>\n",
              "      <td>1478.02</td>\n",
              "    </tr>\n",
              "    <tr>\n",
              "      <th>1503</th>\n",
              "      <td>1460.83</td>\n",
              "      <td>1377.45</td>\n",
              "      <td>1343.96</td>\n",
              "      <td>1470.90</td>\n",
              "      <td>1461.64</td>\n",
              "      <td>1478.02</td>\n",
              "      <td>1501.97</td>\n",
              "    </tr>\n",
              "  </tbody>\n",
              "</table>\n",
              "<p>1504 rows × 7 columns</p>\n",
              "</div>"
            ],
            "text/plain": [
              "            0        1        2        3        4        0        1\n",
              "0      257.31   258.48   259.15   268.46   266.38   266.35   265.34\n",
              "1      258.48   259.15   268.46   266.38   266.35   265.34   267.94\n",
              "2      259.15   268.46   266.38   266.35   265.34   267.94   272.73\n",
              "3      268.46   266.38   266.35   265.34   267.94   272.73   271.90\n",
              "4      266.38   266.35   265.34   267.94   272.73   271.90   268.93\n",
              "...       ...      ...      ...      ...      ...      ...      ...\n",
              "1499  1591.91  1520.91  1551.48  1495.08  1460.83  1377.45  1343.96\n",
              "1500  1520.91  1551.48  1495.08  1460.83  1377.45  1343.96  1470.90\n",
              "1501  1551.48  1495.08  1460.83  1377.45  1343.96  1470.90  1461.64\n",
              "1502  1495.08  1460.83  1377.45  1343.96  1470.90  1461.64  1478.02\n",
              "1503  1460.83  1377.45  1343.96  1470.90  1461.64  1478.02  1501.97\n",
              "\n",
              "[1504 rows x 7 columns]"
            ]
          },
          "metadata": {
            "tags": []
          },
          "execution_count": 15
        }
      ]
    },
    {
      "cell_type": "code",
      "metadata": {
        "colab": {
          "base_uri": "https://localhost:8080/",
          "height": 419
        },
        "id": "jWHAVQPYNOYA",
        "outputId": "95fa74c9-1f79-471d-95bb-a69573658599"
      },
      "source": [
        "X_test_see = pd.DataFrame(np.reshape(X_test, (X_test.shape[0],X_test.shape[1])))\n",
        "pd.DataFrame(X_test_see)"
      ],
      "execution_count": 16,
      "outputs": [
        {
          "output_type": "execute_result",
          "data": {
            "text/html": [
              "<div>\n",
              "<style scoped>\n",
              "    .dataframe tbody tr th:only-of-type {\n",
              "        vertical-align: middle;\n",
              "    }\n",
              "\n",
              "    .dataframe tbody tr th {\n",
              "        vertical-align: top;\n",
              "    }\n",
              "\n",
              "    .dataframe thead th {\n",
              "        text-align: right;\n",
              "    }\n",
              "</style>\n",
              "<table border=\"1\" class=\"dataframe\">\n",
              "  <thead>\n",
              "    <tr style=\"text-align: right;\">\n",
              "      <th></th>\n",
              "      <th>0</th>\n",
              "      <th>1</th>\n",
              "      <th>2</th>\n",
              "      <th>3</th>\n",
              "      <th>4</th>\n",
              "    </tr>\n",
              "  </thead>\n",
              "  <tbody>\n",
              "    <tr>\n",
              "      <th>0</th>\n",
              "      <td>1343.96</td>\n",
              "      <td>1470.90</td>\n",
              "      <td>1461.64</td>\n",
              "      <td>1478.02</td>\n",
              "      <td>1501.97</td>\n",
              "    </tr>\n",
              "    <tr>\n",
              "      <th>1</th>\n",
              "      <td>1470.90</td>\n",
              "      <td>1461.64</td>\n",
              "      <td>1478.02</td>\n",
              "      <td>1501.97</td>\n",
              "      <td>1539.13</td>\n",
              "    </tr>\n",
              "    <tr>\n",
              "      <th>2</th>\n",
              "      <td>1461.64</td>\n",
              "      <td>1478.02</td>\n",
              "      <td>1501.97</td>\n",
              "      <td>1539.13</td>\n",
              "      <td>1500.28</td>\n",
              "    </tr>\n",
              "    <tr>\n",
              "      <th>3</th>\n",
              "      <td>1478.02</td>\n",
              "      <td>1501.97</td>\n",
              "      <td>1539.13</td>\n",
              "      <td>1500.28</td>\n",
              "      <td>1575.39</td>\n",
              "    </tr>\n",
              "    <tr>\n",
              "      <th>4</th>\n",
              "      <td>1501.97</td>\n",
              "      <td>1539.13</td>\n",
              "      <td>1500.28</td>\n",
              "      <td>1575.39</td>\n",
              "      <td>1629.51</td>\n",
              "    </tr>\n",
              "    <tr>\n",
              "      <th>...</th>\n",
              "      <td>...</td>\n",
              "      <td>...</td>\n",
              "      <td>...</td>\n",
              "      <td>...</td>\n",
              "      <td>...</td>\n",
              "    </tr>\n",
              "    <tr>\n",
              "      <th>244</th>\n",
              "      <td>1760.33</td>\n",
              "      <td>1760.94</td>\n",
              "      <td>1769.21</td>\n",
              "      <td>1790.66</td>\n",
              "      <td>1784.03</td>\n",
              "    </tr>\n",
              "    <tr>\n",
              "      <th>245</th>\n",
              "      <td>1760.94</td>\n",
              "      <td>1769.21</td>\n",
              "      <td>1790.66</td>\n",
              "      <td>1784.03</td>\n",
              "      <td>1792.28</td>\n",
              "    </tr>\n",
              "    <tr>\n",
              "      <th>246</th>\n",
              "      <td>1769.21</td>\n",
              "      <td>1790.66</td>\n",
              "      <td>1784.03</td>\n",
              "      <td>1792.28</td>\n",
              "      <td>1786.50</td>\n",
              "    </tr>\n",
              "    <tr>\n",
              "      <th>247</th>\n",
              "      <td>1790.66</td>\n",
              "      <td>1784.03</td>\n",
              "      <td>1792.28</td>\n",
              "      <td>1786.50</td>\n",
              "      <td>1793.00</td>\n",
              "    </tr>\n",
              "    <tr>\n",
              "      <th>248</th>\n",
              "      <td>1784.03</td>\n",
              "      <td>1792.28</td>\n",
              "      <td>1786.50</td>\n",
              "      <td>1793.00</td>\n",
              "      <td>1789.21</td>\n",
              "    </tr>\n",
              "  </tbody>\n",
              "</table>\n",
              "<p>249 rows × 5 columns</p>\n",
              "</div>"
            ],
            "text/plain": [
              "           0        1        2        3        4\n",
              "0    1343.96  1470.90  1461.64  1478.02  1501.97\n",
              "1    1470.90  1461.64  1478.02  1501.97  1539.13\n",
              "2    1461.64  1478.02  1501.97  1539.13  1500.28\n",
              "3    1478.02  1501.97  1539.13  1500.28  1575.39\n",
              "4    1501.97  1539.13  1500.28  1575.39  1629.51\n",
              "..       ...      ...      ...      ...      ...\n",
              "244  1760.33  1760.94  1769.21  1790.66  1784.03\n",
              "245  1760.94  1769.21  1790.66  1784.03  1792.28\n",
              "246  1769.21  1790.66  1784.03  1792.28  1786.50\n",
              "247  1790.66  1784.03  1792.28  1786.50  1793.00\n",
              "248  1784.03  1792.28  1786.50  1793.00  1789.21\n",
              "\n",
              "[249 rows x 5 columns]"
            ]
          },
          "metadata": {
            "tags": []
          },
          "execution_count": 16
        }
      ]
    },
    {
      "cell_type": "code",
      "metadata": {
        "colab": {
          "base_uri": "https://localhost:8080/"
        },
        "id": "KU_TwANkNQ26",
        "outputId": "285aec86-127d-4d02-bb85-bd3087e35727"
      },
      "source": [
        "print(\"There are \" + str(X_train.shape[0]) + \" samples in the training data\")\n",
        "print(\"There are \" + str(X_test.shape[0]) + \" samples in the test data\")"
      ],
      "execution_count": 17,
      "outputs": [
        {
          "output_type": "stream",
          "text": [
            "There are 1504 samples in the training data\n",
            "There are 249 samples in the test data\n"
          ],
          "name": "stdout"
        }
      ]
    },
    {
      "cell_type": "markdown",
      "metadata": {
        "id": "65vfdVZg5ta2"
      },
      "source": [
        "##Building the simple RNN model."
      ]
    },
    {
      "cell_type": "code",
      "metadata": {
        "colab": {
          "base_uri": "https://localhost:8080/"
        },
        "id": "zBKvyKRUNTA9",
        "outputId": "474b9eec-fdd0-4781-96f0-2259b89e88df"
      },
      "source": [
        "def rnn_model(X_train, y_train, X_test):\n",
        "    \n",
        "    \n",
        "    from keras.models import Sequential\n",
        "    from keras.layers import Dense, SimpleRNN\n",
        "    \n",
        "    rnn_model = Sequential()\n",
        "    rnn_model.add(SimpleRNN(32, return_sequences=True))\n",
        "    \n",
        "    rnn_model.add(SimpleRNN(32))\n",
        "    rnn_model.add(Dense(2))\n",
        "\n",
        "    rnn_model.compile(optimizer='rmsprop', loss='mean_squared_error')\n",
        "\n",
        "    \n",
        "    rnn_model.fit(X_train, y_train, epochs=100, batch_size=150, verbose=0)\n",
        "\n",
        "   \n",
        "    rnn_predictions = rnn_model.predict(X_test)\n",
        "\n",
        "    return rnn_model, rnn_predictions\n",
        "\n",
        "rnn_model, rnn_predictions = rnn_model(X_train, y_train, X_test)\n",
        "rnn_predictions[1:10]"
      ],
      "execution_count": 18,
      "outputs": [
        {
          "output_type": "execute_result",
          "data": {
            "text/plain": [
              "array([[41.560017, 40.789692],\n",
              "       [41.560017, 40.789692],\n",
              "       [41.560017, 40.789692],\n",
              "       [41.560017, 40.789692],\n",
              "       [41.560017, 40.789692],\n",
              "       [41.560017, 40.789692],\n",
              "       [41.560017, 40.789692],\n",
              "       [41.560017, 40.789692],\n",
              "       [41.560017, 40.789692]], dtype=float32)"
            ]
          },
          "metadata": {
            "tags": []
          },
          "execution_count": 18
        }
      ]
    },
    {
      "cell_type": "code",
      "metadata": {
        "colab": {
          "base_uri": "https://localhost:8080/",
          "height": 294
        },
        "id": "mMZVjT2yNVdz",
        "outputId": "21cdf95e-1f11-4254-bc9d-347dc0420e29"
      },
      "source": [
        "def pred_plot(preds):\n",
        "    actual_pred = pd.DataFrame(columns = ['Adj. Close', 'prediction'])\n",
        "    actual_pred['Adj. Close'] = all_data.loc['2019':,'Adj Close'][0:len(preds)]\n",
        "    actual_pred['prediction'] = preds[:,0]\n",
        "\n",
        "    from keras.metrics import MeanSquaredError\n",
        "    m = MeanSquaredError()\n",
        "    m.update_state(np.array(actual_pred['Adj. Close']),np.array(actual_pred['prediction']))\n",
        "    \n",
        "    return (m.result().numpy(), actual_pred.plot() )\n",
        " \n",
        "pred_plot(rnn_predictions)"
      ],
      "execution_count": 21,
      "outputs": [
        {
          "output_type": "execute_result",
          "data": {
            "text/plain": [
              "(3061736.2, <matplotlib.axes._subplots.AxesSubplot at 0x7f1ba4190ad0>)"
            ]
          },
          "metadata": {
            "tags": []
          },
          "execution_count": 21
        },
        {
          "output_type": "display_data",
          "data": {
            "image/png": "[encoded data removed]",
            "text/plain": [
              "<Figure size 432x288 with 1 Axes>"
            ]
          },
          "metadata": {
            "tags": [],
            "needs_background": "light"
          }
        }
      ]
    },
    {
      "cell_type": "code",
      "metadata": {
        "colab": {
          "base_uri": "https://localhost:8080/",
          "height": 294
        },
        "id": "tn-C8ZtiNZCg",
        "outputId": "3d724f17-0428-484f-d834-4a62591d5554"
      },
      "source": [
        "def train_test_normalize(all_data,time_steps,for_periods):\n",
        "\n",
        "\n",
        "    sc = MinMaxScaler(feature_range=(0,1))\n",
        "    train = all_data[:'2018'].iloc[:,0:1].values\n",
        "    test  = all_data['2019':].iloc[:,0:1].values\n",
        "\n",
        "\n",
        "    train_len = len(train)\n",
        "    test_len = len(test)\n",
        "\n",
        "    \n",
        "    train_scaled = sc.fit_transform(train)\n",
        "\n",
        "    X_train = []\n",
        "    y_train = []\n",
        "    y_train_stacked = []\n",
        "\n",
        "    for i in range(time_steps,train_len-1): \n",
        "        X_train.append(train_scaled[i-time_steps:i,0])\n",
        "        y_train.append(train_scaled[i:i+for_periods,0])\n",
        "    X_train, y_train = np.array(X_train), np.array(y_train)\n",
        "\n",
        "    X_train = np.reshape(X_train, (X_train.shape[0],X_train.shape[1],1))\n",
        "\n",
        "    inputs = pd.concat((all_data[\"Adj Close\"][:'2018'], all_data[\"Adj Close\"]['2019':]),axis=0).values\n",
        "    inputs = inputs[len(inputs)-len(test) - time_steps:]\n",
        "    inputs = inputs.reshape(-1,1)\n",
        "    inputs  = sc.transform(inputs)\n",
        "\n",
        "    X_test = []\n",
        "    for i in range(time_steps,test_len+time_steps-for_periods):\n",
        "        X_test.append(inputs[i-time_steps:i,0])\n",
        "        \n",
        "    X_test = np.array(X_test)\n",
        "    X_test = np.reshape(X_test, (X_test.shape[0],X_test.shape[1],1))\n",
        "\n",
        "    return X_train, y_train , X_test, sc\n",
        "\n",
        "def rnn_model(X_train, y_train, X_test, sc):\n",
        "    \n",
        "    from keras.models import Sequential\n",
        "    from keras.layers import Dense, SimpleRNN\n",
        "    \n",
        "    my_rnn_model = Sequential()\n",
        "    my_rnn_model.add(SimpleRNN(32, return_sequences=True))\n",
        "  \n",
        "    my_rnn_model.add(SimpleRNN(32))\n",
        "    my_rnn_model.add(Dense(2))\n",
        "\n",
        "    my_rnn_model.compile(optimizer='rmsprop', loss='mean_squared_error')\n",
        "\n",
        "    my_rnn_model.fit(X_train, y_train, epochs=100, batch_size=150, verbose=0)\n",
        "\n",
        "    rnn_predictions = my_rnn_model.predict(X_test)\n",
        "    from sklearn.preprocessing import MinMaxScaler\n",
        "    rnn_predictions = sc.inverse_transform(rnn_predictions)\n",
        "\n",
        "    return my_rnn_model, rnn_predictions\n",
        "\n",
        "\n",
        "X_train, y_train, X_test, sc = train_test_normalize(all_data,5,2)\n",
        "my_rnn_model, rnn_predictions_2 =rnn_model(X_train, y_train, X_test, sc)\n",
        "rnn_predictions_2[1:10]\n",
        "pred_plot(rnn_predictions_2)"
      ],
      "execution_count": 25,
      "outputs": [
        {
          "output_type": "execute_result",
          "data": {
            "text/plain": [
              "(4711.7007, <matplotlib.axes._subplots.AxesSubplot at 0x7f1ba1839f50>)"
            ]
          },
          "metadata": {
            "tags": []
          },
          "execution_count": 25
        },
        {
          "output_type": "display_data",
          "data": {
            "image/png": "[encoded data removed]",
            "text/plain": [
              "<Figure size 432x288 with 1 Axes>"
            ]
          },
          "metadata": {
            "tags": [],
            "needs_background": "light"
          }
        }
      ]
    },
    {
      "cell_type": "code",
      "metadata": {
        "colab": {
          "base_uri": "https://localhost:8080/",
          "height": 294
        },
        "id": "uXjXsVUxOWvP",
        "outputId": "a04b2116-cae8-4ae5-d37f-3c42f77be7e8"
      },
      "source": [
        "def GRU_model(X_train, y_train, X_test, sc):\n",
        "    \n",
        "\n",
        "    \n",
        "    GRU_model = Sequential()\n",
        "    \n",
        "    GRU_model.add(GRU(units=50, return_sequences=True, input_shape=(X_train.shape[1],1), activation='tanh'))\n",
        "    \n",
        "    GRU_model.add(GRU(units=50, activation='tanh'))\n",
        "    GRU_model.add(Dense(units=2))\n",
        "\n",
        "    \n",
        "    GRU_model.compile(optimizer=SGD(lr=0.001, decay=1e-4, momentum=0.9, nesterov=False),loss='mean_squared_error')\n",
        "    \n",
        "    GRU_model.fit(X_train,y_train,epochs=50,batch_size=150, verbose=0)\n",
        "\n",
        "    GRU_prediction = GRU_model.predict(X_test)\n",
        "    GRU_prediction = sc.inverse_transform(GRU_prediction)\n",
        "\n",
        "    return GRU_model, GRU_prediction\n",
        "\n",
        "model, prediction = GRU_model(X_train, y_train, X_test, sc)\n",
        "prediction[1:10]\n",
        "pred_plot(prediction)"
      ],
      "execution_count": 26,
      "outputs": [
        {
          "output_type": "execute_result",
          "data": {
            "text/plain": [
              "(56861.945, <matplotlib.axes._subplots.AxesSubplot at 0x7f1ba35b5f50>)"
            ]
          },
          "metadata": {
            "tags": []
          },
          "execution_count": 26
        },
        {
          "output_type": "display_data",
          "data": {
            "image/png": "[encoded data removed]",
            "text/plain": [
              "<Figure size 432x288 with 1 Axes>"
            ]
          },
          "metadata": {
            "tags": [],
            "needs_background": "light"
          }
        }
      ]
    },
    {
      "cell_type": "code",
      "metadata": {
        "colab": {
          "base_uri": "https://localhost:8080/",
          "height": 294
        },
        "id": "aFkdJD2tOXOL",
        "outputId": "75777394-38d5-46f3-a523-a69cca95edba"
      },
      "source": [
        "def GRU_model_regularization(X_train, y_train, X_test, sc):\n",
        "\n",
        "  \n",
        "    GRU_model = Sequential()\n",
        "    \n",
        "    GRU_model.add(GRU(units=50, return_sequences=True, input_shape=(X_train.shape[1],1), activation='tanh'))\n",
        "    GRU_model.add(Dropout(0.2))\n",
        "  \n",
        "    GRU_model.add(GRU(units=50, return_sequences=True, activation='tanh'))\n",
        "    GRU_model.add(Dropout(0.2))\n",
        "    \n",
        "    GRU_model.add(GRU(units=50, return_sequences=True, activation='tanh'))\n",
        "    GRU_model.add(Dropout(0.2))\n",
        "\n",
        "    GRU_model.add(GRU(units=50, activation='tanh'))\n",
        "    GRU_model.add(Dropout(0.2))\n",
        "    \n",
        "    GRU_model.add(Dense(units=1))\n",
        "\n",
        "    GRU_model.compile(optimizer=SGD(lr=0.01, decay=1e-6, momentum=0.8, nesterov=False),loss='mean_squared_error')\n",
        "\n",
        "    GRU_model.fit(X_train,y_train,epochs=50,batch_size=150, verbose=0)\n",
        "\n",
        "    GRU_predictions = GRU_model.predict(X_test)\n",
        "    GRU_predictions = sc.inverse_transform(GRU_predictions)\n",
        "\n",
        "    return GRU_model, GRU_predictions\n",
        "\n",
        "GRU_model, GRU_predictions = GRU_model_regularization(X_train, y_train, X_test, sc)\n",
        "GRU_predictions[1:10]\n",
        "pred_plot(GRU_predictions)"
      ],
      "execution_count": 30,
      "outputs": [
        {
          "output_type": "execute_result",
          "data": {
            "text/plain": [
              "(3349.2595, <matplotlib.axes._subplots.AxesSubplot at 0x7f1ba4f74bd0>)"
            ]
          },
          "metadata": {
            "tags": []
          },
          "execution_count": 30
        },
        {
          "output_type": "display_data",
          "data": {
            "image/png": "[encoded data removed]",
            "text/plain": [
              "<Figure size 432x288 with 1 Axes>"
            ]
          },
          "metadata": {
            "tags": [],
            "needs_background": "light"
          }
        }
      ]
    }
  ]
}