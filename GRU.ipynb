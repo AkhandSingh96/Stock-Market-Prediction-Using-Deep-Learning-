{
  "nbformat": 4,
  "nbformat_minor": 0,
  "metadata": {
    "colab": {
      "name": "GRU.ipynb",
      "provenance": [],
      "include_colab_link": true
    },
    "kernelspec": {
      "name": "python3",
      "display_name": "Python 3"
    },
    "language_info": {
      "name": "python"
    }
  },
  "cells": [
    {
      "cell_type": "markdown",
      "metadata": {
        "id": "view-in-github",
        "colab_type": "text"
      },
      "source": [
        "<a href=\"https://colab.research.google.com/github/AkhandSingh96/Stock-Market-Prediction-Using-Deep-Learning-/blob/main/GRU.ipynb\" target=\"_parent\"><img src=\"https://colab.research.google.com/assets/colab-badge.svg\" alt=\"Open In Colab\"/></a>"
      ]
    },
    {
      "cell_type": "markdown",
      "metadata": {
        "id": "SRWXJf1yNVly"
      },
      "source": [
        "# Importing the libraries"
      ]
    },
    {
      "cell_type": "code",
      "metadata": {
        "id": "EURFdgZHGKa4"
      },
      "source": [
        "import numpy as np\n",
        "import pandas as pd"
      ],
      "execution_count": null,
      "outputs": []
    },
    {
      "cell_type": "markdown",
      "metadata": {
        "id": "kpDErC1jH89M"
      },
      "source": [
        "# Dataset preparation and preprocessing"
      ]
    },
    {
      "cell_type": "code",
      "metadata": {
        "colab": {
          "base_uri": "https://localhost:8080/"
        },
        "id": "DZGGRmwsG1vT",
        "outputId": "12128aea-6d72-4b6e-e491-e77fdd07fbd1"
      },
      "source": [
        "!pip install yahoofinancials\n",
        "!pip install yfinance"
      ],
      "execution_count": null,
      "outputs": [
        {
          "output_type": "stream",
          "text": [
            "Collecting yahoofinancials\n",
            "  Downloading https://files.pythonhosted.org/packages/97/fe/be0f6ea704137848779fc61e7d1c9a901489aaf3423cd7b6f86a350c14c6/yahoofinancials-1.6.tar.gz\n",
            "Requirement already satisfied: beautifulsoup4 in /usr/local/lib/python3.7/dist-packages (from yahoofinancials) (4.6.3)\n",
            "Requirement already satisfied: pytz in /usr/local/lib/python3.7/dist-packages (from yahoofinancials) (2018.9)\n",
            "Building wheels for collected packages: yahoofinancials\n",
            "  Building wheel for yahoofinancials (setup.py) ... \u001b[?25l\u001b[?25hdone\n",
            "  Created wheel for yahoofinancials: filename=yahoofinancials-1.6-cp37-none-any.whl size=15192 sha256=735086d74f04c49e5527eaea2238ea85057ce2d82de08d029f6a6ae6c685dc32\n",
            "  Stored in directory: /root/.cache/pip/wheels/d9/7e/cf/4977a8572d5247242a4b13018d1d36923024ba84236e0d28bc\n",
            "Successfully built yahoofinancials\n",
            "Installing collected packages: yahoofinancials\n",
            "Successfully installed yahoofinancials-1.6\n",
            "Collecting yfinance\n",
            "  Downloading https://files.pythonhosted.org/packages/a7/ee/315752b9ef281ba83c62aa7ec2e2074f85223da6e7e74efb4d3e11c0f510/yfinance-0.1.59.tar.gz\n",
            "Requirement already satisfied: pandas>=0.24 in /usr/local/lib/python3.7/dist-packages (from yfinance) (1.1.5)\n",
            "Requirement already satisfied: numpy>=1.15 in /usr/local/lib/python3.7/dist-packages (from yfinance) (1.19.5)\n",
            "Requirement already satisfied: requests>=2.20 in /usr/local/lib/python3.7/dist-packages (from yfinance) (2.23.0)\n",
            "Requirement already satisfied: multitasking>=0.0.7 in /usr/local/lib/python3.7/dist-packages (from yfinance) (0.0.9)\n",
            "Collecting lxml>=4.5.1\n",
            "\u001b[?25l  Downloading https://files.pythonhosted.org/packages/30/c0/d0526314971fc661b083ab135747dc68446a3022686da8c16d25fcf6ef07/lxml-4.6.3-cp37-cp37m-manylinux2014_x86_64.whl (6.3MB)\n",
            "\u001b[K     |████████████████████████████████| 6.3MB 8.8MB/s \n",
            "\u001b[?25hRequirement already satisfied: pytz>=2017.2 in /usr/local/lib/python3.7/dist-packages (from pandas>=0.24->yfinance) (2018.9)\n",
            "Requirement already satisfied: python-dateutil>=2.7.3 in /usr/local/lib/python3.7/dist-packages (from pandas>=0.24->yfinance) (2.8.1)\n",
            "Requirement already satisfied: chardet<4,>=3.0.2 in /usr/local/lib/python3.7/dist-packages (from requests>=2.20->yfinance) (3.0.4)\n",
            "Requirement already satisfied: certifi>=2017.4.17 in /usr/local/lib/python3.7/dist-packages (from requests>=2.20->yfinance) (2020.12.5)\n",
            "Requirement already satisfied: idna<3,>=2.5 in /usr/local/lib/python3.7/dist-packages (from requests>=2.20->yfinance) (2.10)\n",
            "Requirement already satisfied: urllib3!=1.25.0,!=1.25.1,<1.26,>=1.21.1 in /usr/local/lib/python3.7/dist-packages (from requests>=2.20->yfinance) (1.24.3)\n",
            "Requirement already satisfied: six>=1.5 in /usr/local/lib/python3.7/dist-packages (from python-dateutil>=2.7.3->pandas>=0.24->yfinance) (1.15.0)\n",
            "Building wheels for collected packages: yfinance\n",
            "  Building wheel for yfinance (setup.py) ... \u001b[?25l\u001b[?25hdone\n",
            "  Created wheel for yfinance: filename=yfinance-0.1.59-py2.py3-none-any.whl size=23442 sha256=16d5fc1f446c02535c94fa2c871a1b22fbb700ec832f93597bd75784c81f55fc\n",
            "  Stored in directory: /root/.cache/pip/wheels/f8/2a/0f/4b5a86e1d52e451757eb6bc17fd899629f0925c777741b6d04\n",
            "Successfully built yfinance\n",
            "Installing collected packages: lxml, yfinance\n",
            "  Found existing installation: lxml 4.2.6\n",
            "    Uninstalling lxml-4.2.6:\n",
            "      Successfully uninstalled lxml-4.2.6\n",
            "Successfully installed lxml-4.6.3 yfinance-0.1.59\n"
          ],
          "name": "stdout"
        }
      ]
    },
    {
      "cell_type": "code",
      "metadata": {
        "colab": {
          "base_uri": "https://localhost:8080/",
          "height": 390
        },
        "id": "ApkCOcJkGu-D",
        "outputId": "879959b4-df66-4f5f-bdd8-5f4cd2978320"
      },
      "source": [
        "import pandas as pd\n",
        "import yfinance as yf\n",
        "\n",
        "from yahoofinancials import YahooFinancials\n",
        "MSFT = yf.download('MSFT', start='2013-01-01', end='2019-12-31',progress=False)\n",
        "\n",
        "all_data = MSFT[['Adj Close','Open', 'High', 'Low', 'Close', 'Volume']].round(2)\n",
        "all_data.head(10)"
      ],
      "execution_count": null,
      "outputs": [
        {
          "output_type": "execute_result",
          "data": {
            "text/html": [
              "<div>\n",
              "<style scoped>\n",
              "    .dataframe tbody tr th:only-of-type {\n",
              "        vertical-align: middle;\n",
              "    }\n",
              "\n",
              "    .dataframe tbody tr th {\n",
              "        vertical-align: top;\n",
              "    }\n",
              "\n",
              "    .dataframe thead th {\n",
              "        text-align: right;\n",
              "    }\n",
              "</style>\n",
              "<table border=\"1\" class=\"dataframe\">\n",
              "  <thead>\n",
              "    <tr style=\"text-align: right;\">\n",
              "      <th></th>\n",
              "      <th>Adj Close</th>\n",
              "      <th>Open</th>\n",
              "      <th>High</th>\n",
              "      <th>Low</th>\n",
              "      <th>Close</th>\n",
              "      <th>Volume</th>\n",
              "    </tr>\n",
              "    <tr>\n",
              "      <th>Date</th>\n",
              "      <th></th>\n",
              "      <th></th>\n",
              "      <th></th>\n",
              "      <th></th>\n",
              "      <th></th>\n",
              "      <th></th>\n",
              "    </tr>\n",
              "  </thead>\n",
              "  <tbody>\n",
              "    <tr>\n",
              "      <th>2013-01-02</th>\n",
              "      <td>23.13</td>\n",
              "      <td>27.25</td>\n",
              "      <td>27.73</td>\n",
              "      <td>27.15</td>\n",
              "      <td>27.62</td>\n",
              "      <td>52899300</td>\n",
              "    </tr>\n",
              "    <tr>\n",
              "      <th>2013-01-03</th>\n",
              "      <td>22.82</td>\n",
              "      <td>27.63</td>\n",
              "      <td>27.65</td>\n",
              "      <td>27.16</td>\n",
              "      <td>27.25</td>\n",
              "      <td>48294400</td>\n",
              "    </tr>\n",
              "    <tr>\n",
              "      <th>2013-01-04</th>\n",
              "      <td>22.39</td>\n",
              "      <td>27.27</td>\n",
              "      <td>27.34</td>\n",
              "      <td>26.73</td>\n",
              "      <td>26.74</td>\n",
              "      <td>52521100</td>\n",
              "    </tr>\n",
              "    <tr>\n",
              "      <th>2013-01-07</th>\n",
              "      <td>22.35</td>\n",
              "      <td>26.77</td>\n",
              "      <td>26.88</td>\n",
              "      <td>26.64</td>\n",
              "      <td>26.69</td>\n",
              "      <td>37110400</td>\n",
              "    </tr>\n",
              "    <tr>\n",
              "      <th>2013-01-08</th>\n",
              "      <td>22.23</td>\n",
              "      <td>26.75</td>\n",
              "      <td>26.79</td>\n",
              "      <td>26.46</td>\n",
              "      <td>26.55</td>\n",
              "      <td>44703100</td>\n",
              "    </tr>\n",
              "    <tr>\n",
              "      <th>2013-01-09</th>\n",
              "      <td>22.36</td>\n",
              "      <td>26.72</td>\n",
              "      <td>26.75</td>\n",
              "      <td>26.56</td>\n",
              "      <td>26.70</td>\n",
              "      <td>49047900</td>\n",
              "    </tr>\n",
              "    <tr>\n",
              "      <th>2013-01-10</th>\n",
              "      <td>22.16</td>\n",
              "      <td>26.65</td>\n",
              "      <td>26.98</td>\n",
              "      <td>26.29</td>\n",
              "      <td>26.46</td>\n",
              "      <td>71431300</td>\n",
              "    </tr>\n",
              "    <tr>\n",
              "      <th>2013-01-11</th>\n",
              "      <td>22.47</td>\n",
              "      <td>26.49</td>\n",
              "      <td>26.93</td>\n",
              "      <td>26.28</td>\n",
              "      <td>26.83</td>\n",
              "      <td>55512100</td>\n",
              "    </tr>\n",
              "    <tr>\n",
              "      <th>2013-01-14</th>\n",
              "      <td>22.52</td>\n",
              "      <td>26.90</td>\n",
              "      <td>27.08</td>\n",
              "      <td>26.76</td>\n",
              "      <td>26.89</td>\n",
              "      <td>48324400</td>\n",
              "    </tr>\n",
              "    <tr>\n",
              "      <th>2013-01-15</th>\n",
              "      <td>22.78</td>\n",
              "      <td>26.83</td>\n",
              "      <td>27.29</td>\n",
              "      <td>26.83</td>\n",
              "      <td>27.21</td>\n",
              "      <td>48244500</td>\n",
              "    </tr>\n",
              "  </tbody>\n",
              "</table>\n",
              "</div>"
            ],
            "text/plain": [
              "            Adj Close   Open   High    Low  Close    Volume\n",
              "Date                                                       \n",
              "2013-01-02      23.13  27.25  27.73  27.15  27.62  52899300\n",
              "2013-01-03      22.82  27.63  27.65  27.16  27.25  48294400\n",
              "2013-01-04      22.39  27.27  27.34  26.73  26.74  52521100\n",
              "2013-01-07      22.35  26.77  26.88  26.64  26.69  37110400\n",
              "2013-01-08      22.23  26.75  26.79  26.46  26.55  44703100\n",
              "2013-01-09      22.36  26.72  26.75  26.56  26.70  49047900\n",
              "2013-01-10      22.16  26.65  26.98  26.29  26.46  71431300\n",
              "2013-01-11      22.47  26.49  26.93  26.28  26.83  55512100\n",
              "2013-01-14      22.52  26.90  27.08  26.76  26.89  48324400\n",
              "2013-01-15      22.78  26.83  27.29  26.83  27.21  48244500"
            ]
          },
          "metadata": {
            "tags": []
          },
          "execution_count": 3
        }
      ]
    },
    {
      "cell_type": "code",
      "metadata": {
        "colab": {
          "base_uri": "https://localhost:8080/",
          "height": 286
        },
        "id": "Bfaou6WGG4bM",
        "outputId": "f345b3c4-5520-458c-dc81-0e565cf0dd41"
      },
      "source": [
        "all_data['Adj Close'].plot()"
      ],
      "execution_count": null,
      "outputs": [
        {
          "output_type": "execute_result",
          "data": {
            "text/plain": [
              "<matplotlib.axes._subplots.AxesSubplot at 0x7f3c6a540fd0>"
            ]
          },
          "metadata": {
            "tags": []
          },
          "execution_count": 4
        },
        {
          "output_type": "display_data",
          "data": {
            "image/png": "[encoded data removed]",
            "text/plain": [
              "<Figure size 432x288 with 1 Axes>"
            ]
          },
          "metadata": {
            "tags": [],
            "needs_background": "light"
          }
        }
      ]
    },
    {
      "cell_type": "markdown",
      "metadata": {
        "id": "dXadz6DzL4XF"
      },
      "source": [
        "Comparing the train and test sizes."
      ]
    },
    {
      "cell_type": "code",
      "metadata": {
        "colab": {
          "base_uri": "https://localhost:8080/",
          "height": 282
        },
        "id": "LCoBVp_TG8J5",
        "outputId": "5fdcc07b-204d-4805-b03e-5bcd746a47ea"
      },
      "source": [
        "import matplotlib.pyplot as plt\n",
        "train = all_data[:'2018'].shape[0]\n",
        "test = all_data['2019':].shape[0]\n",
        "plt.bar([\"train\",\"test\"],[train,test])"
      ],
      "execution_count": null,
      "outputs": [
        {
          "output_type": "execute_result",
          "data": {
            "text/plain": [
              "<BarContainer object of 2 artists>"
            ]
          },
          "metadata": {
            "tags": []
          },
          "execution_count": 5
        },
        {
          "output_type": "display_data",
          "data": {
            "image/png": "[encoded data removed]",
            "text/plain": [
              "<Figure size 432x288 with 1 Axes>"
            ]
          },
          "metadata": {
            "tags": [],
            "needs_background": "light"
          }
        }
      ]
    },
    {
      "cell_type": "code",
      "metadata": {
        "id": "t93V4BqeHDKe"
      },
      "source": [
        "def pred_plot(preds):\n",
        "    actual_pred = pd.DataFrame(columns = ['Adj. Close', 'prediction'])\n",
        "    actual_pred['Adj. Close'] = all_data.loc['2019':,'Adj Close'][0:len(preds)]\n",
        "    actual_pred['prediction'] = preds[:,0]\n",
        "\n",
        "    from keras.metrics import MeanSquaredError\n",
        "    m = MeanSquaredError()\n",
        "    m.update_state(np.array(actual_pred['Adj. Close']),np.array(actual_pred['prediction']))\n",
        "    \n",
        "    return (m.result().numpy(), actual_pred.plot() )\n",
        "    \n"
      ],
      "execution_count": null,
      "outputs": []
    },
    {
      "cell_type": "markdown",
      "metadata": {
        "id": "H-Qr4xRkSWkA"
      },
      "source": [
        "In this section we normalize the data using MinMaxScaler feature of sklearn library upto 5 timestamps."
      ]
    },
    {
      "cell_type": "code",
      "metadata": {
        "id": "uK_I9Z23HqCE"
      },
      "source": [
        "def normalize(all_data,time_steps,for_periods):\n",
        "    ts_train = all_data[:'2018'].iloc[:,0:1].values\n",
        "    ts_test  = all_data['2019':].iloc[:,0:1].values\n",
        "    ts_train_len = len(ts_train)\n",
        "    ts_test_len = len(ts_test)\n",
        "\n",
        "    from sklearn.preprocessing import MinMaxScaler\n",
        "    sc = MinMaxScaler(feature_range=(0,1))\n",
        "    ts_train_scaled = sc.fit_transform(ts_train)\n",
        "\n",
        "    X_train = []\n",
        "    y_train = []\n",
        "    y_train_stacked = []\n",
        "    for i in range(time_steps,ts_train_len-1): \n",
        "        X_train.append(ts_train_scaled[i-time_steps:i,0])\n",
        "        y_train.append(ts_train_scaled[i:i+for_periods,0])\n",
        "    X_train, y_train = np.array(X_train), np.array(y_train)\n",
        "\n",
        "    X_train = np.reshape(X_train, (X_train.shape[0],X_train.shape[1],1))\n",
        "\n",
        "    inputs = pd.concat((all_data[\"Adj Close\"][:'2018'], all_data[\"Adj Close\"]['2019':]),axis=0).values\n",
        "    inputs = inputs[len(inputs)-len(ts_test) - time_steps:]\n",
        "    inputs = inputs.reshape(-1,1)\n",
        "    inputs  = sc.transform(inputs)\n",
        "\n",
        "    X_test = []\n",
        "    for i in range(time_steps,ts_test_len+time_steps-for_periods):\n",
        "        X_test.append(inputs[i-time_steps:i,0])\n",
        "        \n",
        "    X_test = np.array(X_test)\n",
        "    X_test = np.reshape(X_test, (X_test.shape[0],X_test.shape[1],1))\n",
        "\n",
        "    return X_train, y_train , X_test, sc\n",
        "\n"
      ],
      "execution_count": null,
      "outputs": []
    },
    {
      "cell_type": "code",
      "metadata": {
        "id": "TH3dpzuZH0Qh"
      },
      "source": [
        "X_train, y_train, X_test, sc = normalize(all_data,5,2)"
      ],
      "execution_count": null,
      "outputs": []
    },
    {
      "cell_type": "markdown",
      "metadata": {
        "id": "wdahPp9ASQGv"
      },
      "source": [
        "We split the training and testing data in the ratio 80:20."
      ]
    },
    {
      "cell_type": "code",
      "metadata": {
        "colab": {
          "base_uri": "https://localhost:8080/"
        },
        "id": "GfeTExBnG-P9",
        "outputId": "11063ca2-e2d6-4b3c-c925-638fa0f98716"
      },
      "source": [
        "def train_test_split(all_data,time_steps,for_periods):\n",
        "    ts_train = all_data[:'2018'].iloc[:,0:1].values\n",
        "    ts_test  = all_data['2019':].iloc[:,0:1].values\n",
        "    ts_train_len = len(ts_train)\n",
        "    ts_test_len = len(ts_test)\n",
        "\n",
        "    X_train = []\n",
        "    y_train = []\n",
        "    y_train_stacked = []\n",
        "    for i in range(time_steps,ts_train_len-1): \n",
        "        X_train.append(ts_train[i-time_steps:i,0])\n",
        "        y_train.append(ts_train[i:i+for_periods,0])\n",
        "    X_train, y_train = np.array(X_train), np.array(y_train)\n",
        "\n",
        "    \n",
        "    X_train = np.reshape(X_train, (X_train.shape[0],X_train.shape[1],1))\n",
        "\n",
        "    inputs = pd.concat((all_data[\"Adj Close\"][:'2018'], all_data[\"Adj Close\"]['2019':]),axis=0).values\n",
        "    inputs = inputs[len(inputs)-len(ts_test) - time_steps:]\n",
        "    inputs = inputs.reshape(-1,1)\n",
        "\n",
        "    X_test = []\n",
        "    for i in range(time_steps,ts_test_len+time_steps-for_periods):\n",
        "        X_test.append(inputs[i-time_steps:i,0])\n",
        "        \n",
        "    X_test = np.array(X_test)\n",
        "    X_test = np.reshape(X_test, (X_test.shape[0],X_test.shape[1],1))\n",
        "\n",
        "    return X_train, y_train , X_test\n",
        "\n",
        "X_train, y_train, X_test = train_test_split(all_data,5,2)\n",
        "X_train.shape[0],X_train.shape[1]"
      ],
      "execution_count": null,
      "outputs": [
        {
          "output_type": "execute_result",
          "data": {
            "text/plain": [
              "(1504, 5)"
            ]
          },
          "metadata": {
            "tags": []
          },
          "execution_count": 9
        }
      ]
    },
    {
      "cell_type": "markdown",
      "metadata": {
        "id": "loNiP9JxUEnU"
      },
      "source": [
        "# GRU without regularizer model training."
      ]
    },
    {
      "cell_type": "code",
      "metadata": {
        "colab": {
          "base_uri": "https://localhost:8080/",
          "height": 294
        },
        "id": "jSbT7CUZHNLP",
        "outputId": "e83f0f4a-1c8c-401c-d1ee-1f59ed15ebc9"
      },
      "source": [
        "def GRU_model(X_train, y_train, X_test, sc):\n",
        "    \n",
        "    from keras.models import Sequential\n",
        "    from keras.layers import Dense, SimpleRNN, GRU\n",
        "    from keras.optimizers import SGD\n",
        "    \n",
        "    \n",
        "    GRU_model = Sequential()\n",
        "    \n",
        "    GRU_model.add(GRU(units=50, return_sequences=True, input_shape=(X_train.shape[1],1), activation='tanh'))\n",
        "    \n",
        "    GRU_model.add(GRU(units=50, activation='tanh'))\n",
        "    GRU_model.add(Dense(units=2))\n",
        "\n",
        "    \n",
        "    GRU_model.compile(optimizer=SGD(lr=0.01, decay=1e-7, momentum=0.9, nesterov=False),loss='mean_squared_error')\n",
        "     \n",
        "    GRU_model.fit(X_train,y_train,epochs=50,batch_size=150, verbose=0)\n",
        "\n",
        "    GRU_prediction = GRU_model.predict(X_test)\n",
        "    GRU_prediction = sc.inverse_transform(GRU_prediction)\n",
        "\n",
        "    return GRU_model, GRU_prediction\n",
        "\n",
        "GRU_model, GRU_prediction = GRU_model(X_train, y_train, X_test, sc)\n",
        "GRU_prediction[1:10]\n",
        "pred_plot(GRU_prediction)"
      ],
      "execution_count": null,
      "outputs": [
        {
          "output_type": "execute_result",
          "data": {
            "text/plain": [
              "(26.690552, <matplotlib.axes._subplots.AxesSubplot at 0x7f3c1fc77bd0>)"
            ]
          },
          "metadata": {
            "tags": []
          },
          "execution_count": 14
        },
        {
          "output_type": "display_data",
          "data": {
            "image/png": "[encoded data removed]",
            "text/plain": [
              "<Figure size 432x288 with 1 Axes>"
            ]
          },
          "metadata": {
            "tags": [],
            "needs_background": "light"
          }
        }
      ]
    },
    {
      "cell_type": "markdown",
      "metadata": {
        "id": "tdj0bdkwMlcj"
      },
      "source": [
        "#GRU with regularizer model training.\n",
        "\n"
      ]
    },
    {
      "cell_type": "code",
      "metadata": {
        "colab": {
          "base_uri": "https://localhost:8080/",
          "height": 294
        },
        "id": "wC5WmYzyHJdA",
        "outputId": "e0d89ad1-6790-4490-f706-e06ff0c05bb3"
      },
      "source": [
        "def GRU_model_regularization(X_train, y_train, X_test, sc):\n",
        "    \n",
        "    from keras.models import Sequential\n",
        "    from keras.layers import Dense, SimpleRNN, GRU\n",
        "    from keras.optimizers import SGD\n",
        "    from keras.layers import Dropout\n",
        "    \n",
        "    \n",
        "    GRU_model = Sequential()\n",
        "    \n",
        "    \n",
        "    GRU_model.add(GRU(units=50, return_sequences=True, input_shape=(X_train.shape[1],1), activation='tanh'))\n",
        "    GRU_model.add(Dropout(0.2))\n",
        "    \n",
        "    \n",
        "    GRU_model.add(GRU(units=50, return_sequences=True, activation='tanh'))\n",
        "    GRU_model.add(Dropout(0.2))\n",
        "    \n",
        "\n",
        "    \n",
        "    GRU_model.add(GRU(units=50, return_sequences=True, activation='tanh'))\n",
        "    GRU_model.add(Dropout(0.2))\n",
        "\n",
        "   \n",
        "    GRU_model.add(GRU(units=50, activation='tanh'))\n",
        "    GRU_model.add(Dropout(0.2))\n",
        "    \n",
        "    \n",
        "    GRU_model.add(Dense(units=1))\n",
        "  \n",
        "    GRU_model.compile(optimizer=SGD(lr=0.01, decay=1e-7, momentum=0.9, nesterov=False),loss='mean_squared_error')\n",
        "    \n",
        "    GRU_model.fit(X_train,y_train,epochs=50,batch_size=150, verbose=0)\n",
        "\n",
        "    GRU_predictions = GRU_model.predict(X_test)\n",
        "    GRU_predictions = sc.inverse_transform(GRU_predictions)\n",
        "\n",
        "    return GRU_model, GRU_predictions\n",
        "\n",
        "GRU_model, GRU_predictions = GRU_model_regularization(X_train, y_train, X_test, sc)\n",
        "GRU_predictions[1:10]\n",
        "pred_plot(GRU_prediction)"
      ],
      "execution_count": null,
      "outputs": [
        {
          "output_type": "execute_result",
          "data": {
            "text/plain": [
              "(26.690552, <matplotlib.axes._subplots.AxesSubplot at 0x7f3c1d0d9150>)"
            ]
          },
          "metadata": {
            "tags": []
          },
          "execution_count": 15
        },
        {
          "output_type": "display_data",
          "data": {
            "image/png": "[encoded data removed]",
            "text/plain": [
              "<Figure size 432x288 with 1 Axes>"
            ]
          },
          "metadata": {
            "tags": [],
            "needs_background": "light"
          }
        }
      ]
    }
  ]
}