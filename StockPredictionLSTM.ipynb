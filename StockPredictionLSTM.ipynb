{
  "nbformat": 4,
  "nbformat_minor": 0,
  "metadata": {
    "colab": {
      "name": "StockPredictionLSTM.ipynb",
      "provenance": [],
      "collapsed_sections": [],
      "include_colab_link": true
    },
    "kernelspec": {
      "name": "python3",
      "display_name": "Python 3"
    },
    "language_info": {
      "name": "python"
    }
  },
  "cells": [
    {
      "cell_type": "markdown",
      "metadata": {
        "id": "view-in-github",
        "colab_type": "text"
      },
      "source": [
        "<a href=\"https://colab.research.google.com/github/AkhandSingh96/Stock-Market-Prediction-Using-Deep-Learning-/blob/main/StockPredictionLSTM.ipynb\" target=\"_parent\"><img src=\"https://colab.research.google.com/assets/colab-badge.svg\" alt=\"Open In Colab\"/></a>"
      ]
    },
    {
      "cell_type": "markdown",
      "metadata": {
        "id": "Z1DfdKkxP15m"
      },
      "source": [
        "# Defining the directory and importing libraries"
      ]
    },
    {
      "cell_type": "code",
      "metadata": {
        "colab": {
          "base_uri": "https://localhost:8080/"
        },
        "id": "73A8QEQfF56K",
        "outputId": "1763a125-2a8d-4f9e-e614-9625d5962b91"
      },
      "source": [
        "cd /content/drive/MyDrive/Deep Learning Project"
      ],
      "execution_count": null,
      "outputs": [
        {
          "output_type": "stream",
          "text": [
            "/content/drive/MyDrive/Deep Learning Project\n"
          ],
          "name": "stdout"
        }
      ]
    },
    {
      "cell_type": "code",
      "metadata": {
        "colab": {
          "base_uri": "https://localhost:8080/"
        },
        "id": "id0Cv_CVGAAT",
        "outputId": "b768443f-b280-4c1a-9a54-5d220b67926b"
      },
      "source": [
        "ls"
      ],
      "execution_count": null,
      "outputs": [
        {
          "output_type": "stream",
          "text": [
            "'Copy of LSTM.ipynb'    GRU.ipynb                    StockPredictionLSTM.ipynb\n",
            "'Data Analysis.ipynb'  'Project Update.gdoc'         StockRNNipynb\n",
            " get_prices.ipynb       StockPredictionARIMA.ipynb\n"
          ],
          "name": "stdout"
        }
      ]
    },
    {
      "cell_type": "code",
      "metadata": {
        "id": "xuz8ohymGCEf"
      },
      "source": [
        "import pandas as pd\n",
        "import numpy as np\n",
        "\n",
        "import matplotlib.pyplot as plt\n",
        "import seaborn as sns\n",
        "sns.set_style('whitegrid')\n",
        "plt.style.use(\"fivethirtyeight\")\n",
        "%matplotlib inline\n",
        "\n",
        "# For reading stock data from yahoo\n",
        "from pandas_datareader.data import DataReader\n",
        "\n",
        "# For time stamps\n",
        "from datetime import datetime"
      ],
      "execution_count": null,
      "outputs": []
    },
    {
      "cell_type": "markdown",
      "metadata": {
        "id": "ErUtGbwqNhqj"
      },
      "source": [
        "# Dataset preparation and preprocessing"
      ]
    },
    {
      "cell_type": "code",
      "metadata": {
        "id": "lWALuqisGym1"
      },
      "source": [
        "tech_list = ['AAPL', 'GE', 'TSLA', 'AMZN']\n",
        "\n",
        "end = datetime.now()\n",
        "start = datetime(end.year - 1, end.month, end.day)\n",
        "\n",
        "for stock in tech_list:   \n",
        "    \n",
        "    globals()[stock] = DataReader(stock, 'yahoo', start, end)"
      ],
      "execution_count": null,
      "outputs": []
    },
    {
      "cell_type": "markdown",
      "metadata": {
        "id": "8GmckEmTNo9b"
      },
      "source": [
        "Features extracted from stock market data."
      ]
    },
    {
      "cell_type": "code",
      "metadata": {
        "colab": {
          "base_uri": "https://localhost:8080/",
          "height": 390
        },
        "id": "9MQS3bzsHm_n",
        "outputId": "1be31615-f41d-46a1-a8ed-e5fef2533c2f"
      },
      "source": [
        "company_list = [AAPL, GE, TSLA, AMZN]\n",
        "company_name = [\"APPLE\", \"GE\", \"TESLA\", \"AMAZON\"]\n",
        "\n",
        "for company, com_name in zip(company_list, company_name):\n",
        "    company[\"company_name\"] = com_name\n",
        "    \n",
        "df = pd.concat(company_list, axis=0)\n",
        "df.tail(10)"
      ],
      "execution_count": null,
      "outputs": [
        {
          "output_type": "execute_result",
          "data": {
            "text/html": [
              "<div>\n",
              "<style scoped>\n",
              "    .dataframe tbody tr th:only-of-type {\n",
              "        vertical-align: middle;\n",
              "    }\n",
              "\n",
              "    .dataframe tbody tr th {\n",
              "        vertical-align: top;\n",
              "    }\n",
              "\n",
              "    .dataframe thead th {\n",
              "        text-align: right;\n",
              "    }\n",
              "</style>\n",
              "<table border=\"1\" class=\"dataframe\">\n",
              "  <thead>\n",
              "    <tr style=\"text-align: right;\">\n",
              "      <th></th>\n",
              "      <th>High</th>\n",
              "      <th>Low</th>\n",
              "      <th>Open</th>\n",
              "      <th>Close</th>\n",
              "      <th>Volume</th>\n",
              "      <th>Adj Close</th>\n",
              "      <th>company_name</th>\n",
              "    </tr>\n",
              "    <tr>\n",
              "      <th>Date</th>\n",
              "      <th></th>\n",
              "      <th></th>\n",
              "      <th></th>\n",
              "      <th></th>\n",
              "      <th></th>\n",
              "      <th></th>\n",
              "      <th></th>\n",
              "    </tr>\n",
              "  </thead>\n",
              "  <tbody>\n",
              "    <tr>\n",
              "      <th>2021-05-05</th>\n",
              "      <td>3354.699951</td>\n",
              "      <td>3264.360107</td>\n",
              "      <td>3338.860107</td>\n",
              "      <td>3270.540039</td>\n",
              "      <td>3711300.0</td>\n",
              "      <td>3270.540039</td>\n",
              "      <td>AMAZON</td>\n",
              "    </tr>\n",
              "    <tr>\n",
              "      <th>2021-05-06</th>\n",
              "      <td>3314.399902</td>\n",
              "      <td>3247.199951</td>\n",
              "      <td>3270.000000</td>\n",
              "      <td>3306.370117</td>\n",
              "      <td>4447700.0</td>\n",
              "      <td>3306.370117</td>\n",
              "      <td>AMAZON</td>\n",
              "    </tr>\n",
              "    <tr>\n",
              "      <th>2021-05-07</th>\n",
              "      <td>3330.889893</td>\n",
              "      <td>3289.070068</td>\n",
              "      <td>3319.090088</td>\n",
              "      <td>3291.610107</td>\n",
              "      <td>4706800.0</td>\n",
              "      <td>3291.610107</td>\n",
              "      <td>AMAZON</td>\n",
              "    </tr>\n",
              "    <tr>\n",
              "      <th>2021-05-10</th>\n",
              "      <td>3283.000000</td>\n",
              "      <td>3190.000000</td>\n",
              "      <td>3282.320068</td>\n",
              "      <td>3190.489990</td>\n",
              "      <td>5838600.0</td>\n",
              "      <td>3190.489990</td>\n",
              "      <td>AMAZON</td>\n",
              "    </tr>\n",
              "    <tr>\n",
              "      <th>2021-05-11</th>\n",
              "      <td>3238.000000</td>\n",
              "      <td>3127.370117</td>\n",
              "      <td>3136.280029</td>\n",
              "      <td>3223.909912</td>\n",
              "      <td>4619800.0</td>\n",
              "      <td>3223.909912</td>\n",
              "      <td>AMAZON</td>\n",
              "    </tr>\n",
              "    <tr>\n",
              "      <th>2021-05-12</th>\n",
              "      <td>3207.939941</td>\n",
              "      <td>3133.100098</td>\n",
              "      <td>3185.000000</td>\n",
              "      <td>3151.939941</td>\n",
              "      <td>4936400.0</td>\n",
              "      <td>3151.939941</td>\n",
              "      <td>AMAZON</td>\n",
              "    </tr>\n",
              "    <tr>\n",
              "      <th>2021-05-13</th>\n",
              "      <td>3203.840088</td>\n",
              "      <td>3133.000000</td>\n",
              "      <td>3185.469971</td>\n",
              "      <td>3161.469971</td>\n",
              "      <td>3350900.0</td>\n",
              "      <td>3161.469971</td>\n",
              "      <td>AMAZON</td>\n",
              "    </tr>\n",
              "    <tr>\n",
              "      <th>2021-05-14</th>\n",
              "      <td>3228.860107</td>\n",
              "      <td>3183.000000</td>\n",
              "      <td>3185.560059</td>\n",
              "      <td>3222.899902</td>\n",
              "      <td>3321400.0</td>\n",
              "      <td>3222.899902</td>\n",
              "      <td>AMAZON</td>\n",
              "    </tr>\n",
              "    <tr>\n",
              "      <th>2021-05-17</th>\n",
              "      <td>3292.750000</td>\n",
              "      <td>3234.590088</td>\n",
              "      <td>3245.929932</td>\n",
              "      <td>3270.389893</td>\n",
              "      <td>3717900.0</td>\n",
              "      <td>3270.389893</td>\n",
              "      <td>AMAZON</td>\n",
              "    </tr>\n",
              "    <tr>\n",
              "      <th>2021-05-18</th>\n",
              "      <td>3312.000000</td>\n",
              "      <td>3277.500000</td>\n",
              "      <td>3292.574951</td>\n",
              "      <td>3286.649902</td>\n",
              "      <td>1347376.0</td>\n",
              "      <td>3286.649902</td>\n",
              "      <td>AMAZON</td>\n",
              "    </tr>\n",
              "  </tbody>\n",
              "</table>\n",
              "</div>"
            ],
            "text/plain": [
              "                   High          Low  ...    Adj Close  company_name\n",
              "Date                                  ...                           \n",
              "2021-05-05  3354.699951  3264.360107  ...  3270.540039        AMAZON\n",
              "2021-05-06  3314.399902  3247.199951  ...  3306.370117        AMAZON\n",
              "2021-05-07  3330.889893  3289.070068  ...  3291.610107        AMAZON\n",
              "2021-05-10  3283.000000  3190.000000  ...  3190.489990        AMAZON\n",
              "2021-05-11  3238.000000  3127.370117  ...  3223.909912        AMAZON\n",
              "2021-05-12  3207.939941  3133.100098  ...  3151.939941        AMAZON\n",
              "2021-05-13  3203.840088  3133.000000  ...  3161.469971        AMAZON\n",
              "2021-05-14  3228.860107  3183.000000  ...  3222.899902        AMAZON\n",
              "2021-05-17  3292.750000  3234.590088  ...  3270.389893        AMAZON\n",
              "2021-05-18  3312.000000  3277.500000  ...  3286.649902        AMAZON\n",
              "\n",
              "[10 rows x 7 columns]"
            ]
          },
          "metadata": {
            "tags": []
          },
          "execution_count": 7
        }
      ]
    },
    {
      "cell_type": "code",
      "metadata": {
        "colab": {
          "base_uri": "https://localhost:8080/",
          "height": 297
        },
        "id": "aHwfsIRWHteF",
        "outputId": "ab2c59ce-9d5e-4903-cf63-d6ecf4323695"
      },
      "source": [
        "TSLA.describe()"
      ],
      "execution_count": null,
      "outputs": [
        {
          "output_type": "execute_result",
          "data": {
            "text/html": [
              "<div>\n",
              "<style scoped>\n",
              "    .dataframe tbody tr th:only-of-type {\n",
              "        vertical-align: middle;\n",
              "    }\n",
              "\n",
              "    .dataframe tbody tr th {\n",
              "        vertical-align: top;\n",
              "    }\n",
              "\n",
              "    .dataframe thead th {\n",
              "        text-align: right;\n",
              "    }\n",
              "</style>\n",
              "<table border=\"1\" class=\"dataframe\">\n",
              "  <thead>\n",
              "    <tr style=\"text-align: right;\">\n",
              "      <th></th>\n",
              "      <th>High</th>\n",
              "      <th>Low</th>\n",
              "      <th>Open</th>\n",
              "      <th>Close</th>\n",
              "      <th>Volume</th>\n",
              "      <th>Adj Close</th>\n",
              "    </tr>\n",
              "  </thead>\n",
              "  <tbody>\n",
              "    <tr>\n",
              "      <th>count</th>\n",
              "      <td>253.000000</td>\n",
              "      <td>253.000000</td>\n",
              "      <td>253.000000</td>\n",
              "      <td>253.000000</td>\n",
              "      <td>2.530000e+02</td>\n",
              "      <td>253.000000</td>\n",
              "    </tr>\n",
              "    <tr>\n",
              "      <th>mean</th>\n",
              "      <td>524.056316</td>\n",
              "      <td>497.672126</td>\n",
              "      <td>511.823614</td>\n",
              "      <td>511.926784</td>\n",
              "      <td>5.117133e+07</td>\n",
              "      <td>511.926784</td>\n",
              "    </tr>\n",
              "    <tr>\n",
              "      <th>std</th>\n",
              "      <td>212.199357</td>\n",
              "      <td>203.862301</td>\n",
              "      <td>208.663321</td>\n",
              "      <td>208.338667</td>\n",
              "      <td>2.892870e+07</td>\n",
              "      <td>208.338667</td>\n",
              "    </tr>\n",
              "    <tr>\n",
              "      <th>min</th>\n",
              "      <td>164.414001</td>\n",
              "      <td>157.000000</td>\n",
              "      <td>161.750000</td>\n",
              "      <td>161.162003</td>\n",
              "      <td>1.515770e+07</td>\n",
              "      <td>161.162003</td>\n",
              "    </tr>\n",
              "    <tr>\n",
              "      <th>25%</th>\n",
              "      <td>368.739990</td>\n",
              "      <td>329.880005</td>\n",
              "      <td>335.790009</td>\n",
              "      <td>330.209991</td>\n",
              "      <td>3.126630e+07</td>\n",
              "      <td>330.209991</td>\n",
              "    </tr>\n",
              "    <tr>\n",
              "      <th>50%</th>\n",
              "      <td>479.040009</td>\n",
              "      <td>442.500000</td>\n",
              "      <td>459.023987</td>\n",
              "      <td>461.299988</td>\n",
              "      <td>4.284600e+07</td>\n",
              "      <td>461.299988</td>\n",
              "    </tr>\n",
              "    <tr>\n",
              "      <th>75%</th>\n",
              "      <td>700.700012</td>\n",
              "      <td>667.840027</td>\n",
              "      <td>685.700012</td>\n",
              "      <td>682.219971</td>\n",
              "      <td>6.591950e+07</td>\n",
              "      <td>682.219971</td>\n",
              "    </tr>\n",
              "    <tr>\n",
              "      <th>max</th>\n",
              "      <td>900.400024</td>\n",
              "      <td>871.599976</td>\n",
              "      <td>891.380005</td>\n",
              "      <td>883.090027</td>\n",
              "      <td>2.221262e+08</td>\n",
              "      <td>883.090027</td>\n",
              "    </tr>\n",
              "  </tbody>\n",
              "</table>\n",
              "</div>"
            ],
            "text/plain": [
              "             High         Low        Open       Close        Volume   Adj Close\n",
              "count  253.000000  253.000000  253.000000  253.000000  2.530000e+02  253.000000\n",
              "mean   524.056316  497.672126  511.823614  511.926784  5.117133e+07  511.926784\n",
              "std    212.199357  203.862301  208.663321  208.338667  2.892870e+07  208.338667\n",
              "min    164.414001  157.000000  161.750000  161.162003  1.515770e+07  161.162003\n",
              "25%    368.739990  329.880005  335.790009  330.209991  3.126630e+07  330.209991\n",
              "50%    479.040009  442.500000  459.023987  461.299988  4.284600e+07  461.299988\n",
              "75%    700.700012  667.840027  685.700012  682.219971  6.591950e+07  682.219971\n",
              "max    900.400024  871.599976  891.380005  883.090027  2.221262e+08  883.090027"
            ]
          },
          "metadata": {
            "tags": []
          },
          "execution_count": 8
        }
      ]
    },
    {
      "cell_type": "code",
      "metadata": {
        "colab": {
          "base_uri": "https://localhost:8080/"
        },
        "id": "Kd7CSoCuHwxe",
        "outputId": "1aa68759-57e4-482b-c845-6cb4e5d4d286"
      },
      "source": [
        "TSLA.info()"
      ],
      "execution_count": null,
      "outputs": [
        {
          "output_type": "stream",
          "text": [
            "<class 'pandas.core.frame.DataFrame'>\n",
            "DatetimeIndex: 253 entries, 2020-05-18 to 2021-05-18\n",
            "Data columns (total 7 columns):\n",
            " #   Column        Non-Null Count  Dtype  \n",
            "---  ------        --------------  -----  \n",
            " 0   High          253 non-null    float64\n",
            " 1   Low           253 non-null    float64\n",
            " 2   Open          253 non-null    float64\n",
            " 3   Close         253 non-null    float64\n",
            " 4   Volume        253 non-null    float64\n",
            " 5   Adj Close     253 non-null    float64\n",
            " 6   company_name  253 non-null    object \n",
            "dtypes: float64(6), object(1)\n",
            "memory usage: 15.8+ KB\n"
          ],
          "name": "stdout"
        }
      ]
    },
    {
      "cell_type": "code",
      "metadata": {
        "colab": {
          "base_uri": "https://localhost:8080/",
          "height": 450
        },
        "id": "zTNeQi4VJbEC",
        "outputId": "ecdb62a1-1034-4f00-8fd5-0ce6b400d133"
      },
      "source": [
        "df = DataReader('TSLA', data_source='yahoo', start='2012-01-01', end=datetime.now())\n",
        "# Show teh data\n",
        "df"
      ],
      "execution_count": null,
      "outputs": [
        {
          "output_type": "execute_result",
          "data": {
            "text/html": [
              "<div>\n",
              "<style scoped>\n",
              "    .dataframe tbody tr th:only-of-type {\n",
              "        vertical-align: middle;\n",
              "    }\n",
              "\n",
              "    .dataframe tbody tr th {\n",
              "        vertical-align: top;\n",
              "    }\n",
              "\n",
              "    .dataframe thead th {\n",
              "        text-align: right;\n",
              "    }\n",
              "</style>\n",
              "<table border=\"1\" class=\"dataframe\">\n",
              "  <thead>\n",
              "    <tr style=\"text-align: right;\">\n",
              "      <th></th>\n",
              "      <th>High</th>\n",
              "      <th>Low</th>\n",
              "      <th>Open</th>\n",
              "      <th>Close</th>\n",
              "      <th>Volume</th>\n",
              "      <th>Adj Close</th>\n",
              "    </tr>\n",
              "    <tr>\n",
              "      <th>Date</th>\n",
              "      <th></th>\n",
              "      <th></th>\n",
              "      <th></th>\n",
              "      <th></th>\n",
              "      <th></th>\n",
              "      <th></th>\n",
              "    </tr>\n",
              "  </thead>\n",
              "  <tbody>\n",
              "    <tr>\n",
              "      <th>2012-01-03</th>\n",
              "      <td>14.732143</td>\n",
              "      <td>14.607143</td>\n",
              "      <td>14.621429</td>\n",
              "      <td>14.686786</td>\n",
              "      <td>302220800.0</td>\n",
              "      <td>12.629209</td>\n",
              "    </tr>\n",
              "    <tr>\n",
              "      <th>2012-01-04</th>\n",
              "      <td>14.810000</td>\n",
              "      <td>14.617143</td>\n",
              "      <td>14.642857</td>\n",
              "      <td>14.765714</td>\n",
              "      <td>260022000.0</td>\n",
              "      <td>12.697079</td>\n",
              "    </tr>\n",
              "    <tr>\n",
              "      <th>2012-01-05</th>\n",
              "      <td>14.948214</td>\n",
              "      <td>14.738214</td>\n",
              "      <td>14.819643</td>\n",
              "      <td>14.929643</td>\n",
              "      <td>271269600.0</td>\n",
              "      <td>12.838044</td>\n",
              "    </tr>\n",
              "    <tr>\n",
              "      <th>2012-01-06</th>\n",
              "      <td>15.098214</td>\n",
              "      <td>14.972143</td>\n",
              "      <td>14.991786</td>\n",
              "      <td>15.085714</td>\n",
              "      <td>318292800.0</td>\n",
              "      <td>12.972249</td>\n",
              "    </tr>\n",
              "    <tr>\n",
              "      <th>2012-01-09</th>\n",
              "      <td>15.276786</td>\n",
              "      <td>15.048214</td>\n",
              "      <td>15.196429</td>\n",
              "      <td>15.061786</td>\n",
              "      <td>394024400.0</td>\n",
              "      <td>12.951672</td>\n",
              "    </tr>\n",
              "    <tr>\n",
              "      <th>...</th>\n",
              "      <td>...</td>\n",
              "      <td>...</td>\n",
              "      <td>...</td>\n",
              "      <td>...</td>\n",
              "      <td>...</td>\n",
              "      <td>...</td>\n",
              "    </tr>\n",
              "    <tr>\n",
              "      <th>2021-05-11</th>\n",
              "      <td>126.269997</td>\n",
              "      <td>122.769997</td>\n",
              "      <td>123.500000</td>\n",
              "      <td>125.910004</td>\n",
              "      <td>126142800.0</td>\n",
              "      <td>125.910004</td>\n",
              "    </tr>\n",
              "    <tr>\n",
              "      <th>2021-05-12</th>\n",
              "      <td>124.639999</td>\n",
              "      <td>122.250000</td>\n",
              "      <td>123.400002</td>\n",
              "      <td>122.769997</td>\n",
              "      <td>112172300.0</td>\n",
              "      <td>122.769997</td>\n",
              "    </tr>\n",
              "    <tr>\n",
              "      <th>2021-05-13</th>\n",
              "      <td>126.150002</td>\n",
              "      <td>124.260002</td>\n",
              "      <td>124.580002</td>\n",
              "      <td>124.970001</td>\n",
              "      <td>105861300.0</td>\n",
              "      <td>124.970001</td>\n",
              "    </tr>\n",
              "    <tr>\n",
              "      <th>2021-05-14</th>\n",
              "      <td>127.889999</td>\n",
              "      <td>125.849998</td>\n",
              "      <td>126.250000</td>\n",
              "      <td>127.449997</td>\n",
              "      <td>81806500.0</td>\n",
              "      <td>127.449997</td>\n",
              "    </tr>\n",
              "    <tr>\n",
              "      <th>2021-05-17</th>\n",
              "      <td>126.919998</td>\n",
              "      <td>125.459999</td>\n",
              "      <td>126.820000</td>\n",
              "      <td>125.785004</td>\n",
              "      <td>35558223.0</td>\n",
              "      <td>125.785004</td>\n",
              "    </tr>\n",
              "  </tbody>\n",
              "</table>\n",
              "<p>2358 rows × 6 columns</p>\n",
              "</div>"
            ],
            "text/plain": [
              "                  High         Low  ...       Volume   Adj Close\n",
              "Date                                ...                         \n",
              "2012-01-03   14.732143   14.607143  ...  302220800.0   12.629209\n",
              "2012-01-04   14.810000   14.617143  ...  260022000.0   12.697079\n",
              "2012-01-05   14.948214   14.738214  ...  271269600.0   12.838044\n",
              "2012-01-06   15.098214   14.972143  ...  318292800.0   12.972249\n",
              "2012-01-09   15.276786   15.048214  ...  394024400.0   12.951672\n",
              "...                ...         ...  ...          ...         ...\n",
              "2021-05-11  126.269997  122.769997  ...  126142800.0  125.910004\n",
              "2021-05-12  124.639999  122.250000  ...  112172300.0  122.769997\n",
              "2021-05-13  126.150002  124.260002  ...  105861300.0  124.970001\n",
              "2021-05-14  127.889999  125.849998  ...   81806500.0  127.449997\n",
              "2021-05-17  126.919998  125.459999  ...   35558223.0  125.785004\n",
              "\n",
              "[2358 rows x 6 columns]"
            ]
          },
          "metadata": {
            "tags": []
          },
          "execution_count": 20
        }
      ]
    },
    {
      "cell_type": "code",
      "metadata": {
        "colab": {
          "base_uri": "https://localhost:8080/",
          "height": 410
        },
        "id": "jPlgw3aFJuzj",
        "outputId": "815036b7-3e1e-4c66-d845-40734c7be0c4"
      },
      "source": [
        "plt.figure(figsize=(16,6))\n",
        "plt.title('Close Price History')\n",
        "plt.plot(df['Close'])\n",
        "plt.xlabel('Date', fontsize=18)\n",
        "plt.ylabel('Close Price USD ($)', fontsize=18)\n",
        "plt.show()"
      ],
      "execution_count": null,
      "outputs": [
        {
          "output_type": "display_data",
          "data": {
            "image/png": "[encoded data removed]",
            "text/plain": [
              "<Figure size 1152x432 with 1 Axes>"
            ]
          },
          "metadata": {
            "tags": [],
            "needs_background": "light"
          }
        }
      ]
    },
    {
      "cell_type": "markdown",
      "metadata": {
        "id": "otjkmRyRUgz7"
      },
      "source": [
        "# Deployment "
      ]
    },
    {
      "cell_type": "code",
      "metadata": {
        "colab": {
          "base_uri": "https://localhost:8080/"
        },
        "id": "tCPJ5KZjJyIE",
        "outputId": "cbd7bbba-1550-4034-c19f-2783eee208da"
      },
      "source": [
        "data = df.filter(['Close'])\n",
        "dataset = data.values"
      ],
      "execution_count": null,
      "outputs": [
        {
          "output_type": "execute_result",
          "data": {
            "text/plain": [
              "2241"
            ]
          },
          "metadata": {
            "tags": []
          },
          "execution_count": 22
        }
      ]
    },
    {
      "cell_type": "code",
      "metadata": {
        "id": "vsQmmdHTF2lJ"
      },
      "source": [
        "training_data_len = int(np.ceil( len(dataset) * .95 ))\n",
        "\n",
        "training_data_len"
      ],
      "execution_count": null,
      "outputs": []
    },
    {
      "cell_type": "code",
      "metadata": {
        "colab": {
          "base_uri": "https://localhost:8080/"
        },
        "id": "6NISirRCJ0Ra",
        "outputId": "370a379c-1050-4f92-8f10-d94c2200cffa"
      },
      "source": [
        "from sklearn.preprocessing import MinMaxScaler\n",
        "\n",
        "scaler = MinMaxScaler(feature_range=(0,1))\n",
        "scaled_data = scaler.fit_transform(dataset)\n",
        "\n",
        "scaled_data"
      ],
      "execution_count": null,
      "outputs": [
        {
          "output_type": "execute_result",
          "data": {
            "text/plain": [
              "array([[0.00572147],\n",
              "       [0.00633231],\n",
              "       [0.00760099],\n",
              "       ...,\n",
              "       [0.85922413],\n",
              "       [0.87841729],\n",
              "       [0.86553159]])"
            ]
          },
          "metadata": {
            "tags": []
          },
          "execution_count": 23
        }
      ]
    },
    {
      "cell_type": "code",
      "metadata": {
        "colab": {
          "base_uri": "https://localhost:8080/"
        },
        "id": "E5Iyp-AIJ2Pg",
        "outputId": "1153d336-965f-41f3-9701-15462329d656"
      },
      "source": [
        "train_data = scaled_data[0:int(training_data_len), :]\n",
        "\n",
        "x_train = []\n",
        "y_train = []\n",
        "\n",
        "for i in range(60, len(train_data)):\n",
        "    x_train.append(train_data[i-60:i, 0])\n",
        "    y_train.append(train_data[i, 0])\n",
        "    if i<= 61:\n",
        "        print(x_train)\n",
        "        print(y_train)\n",
        "        print()\n",
        "        \n",
        "\n",
        "x_train, y_train = np.array(x_train), np.array(y_train)\n",
        "\n",
        "\n",
        "x_train = np.reshape(x_train, (x_train.shape[0], x_train.shape[1], 1))\n"
      ],
      "execution_count": null,
      "outputs": [
        {
          "output_type": "stream",
          "text": [
            "[array([0.00572147, 0.00633231, 0.00760099, 0.00880885, 0.00862367,\n",
            "       0.00904103, 0.00885031, 0.00852969, 0.00809297, 0.00944457,\n",
            "       0.0106635 , 0.01028759, 0.00822841, 0.01019361, 0.00825882,\n",
            "       0.01551431, 0.01495322, 0.01568568, 0.01726944, 0.01822855,\n",
            "       0.01814839, 0.01785265, 0.01911303, 0.02029878, 0.02164209,\n",
            "       0.02381183, 0.02836966, 0.02843875, 0.03097611, 0.0328722 ,\n",
            "       0.02961346, 0.03086831, 0.03084343, 0.034362  , 0.03386171,\n",
            "       0.03478765, 0.03645157, 0.03737752, 0.04004478, 0.04198786,\n",
            "       0.04254895, 0.0427452 , 0.03942288, 0.03862131, 0.03874017,\n",
            "       0.04186349, 0.04274244, 0.04463025, 0.04908028, 0.05501734,\n",
            "       0.05390621, 0.05390897, 0.05820147, 0.05954478, 0.05858842,\n",
            "       0.05771501, 0.05680565, 0.05982669, 0.0618997 , 0.06276759])]\n",
            "[0.06062272301844436]\n",
            "\n",
            "[array([0.00572147, 0.00633231, 0.00760099, 0.00880885, 0.00862367,\n",
            "       0.00904103, 0.00885031, 0.00852969, 0.00809297, 0.00944457,\n",
            "       0.0106635 , 0.01028759, 0.00822841, 0.01019361, 0.00825882,\n",
            "       0.01551431, 0.01495322, 0.01568568, 0.01726944, 0.01822855,\n",
            "       0.01814839, 0.01785265, 0.01911303, 0.02029878, 0.02164209,\n",
            "       0.02381183, 0.02836966, 0.02843875, 0.03097611, 0.0328722 ,\n",
            "       0.02961346, 0.03086831, 0.03084343, 0.034362  , 0.03386171,\n",
            "       0.03478765, 0.03645157, 0.03737752, 0.04004478, 0.04198786,\n",
            "       0.04254895, 0.0427452 , 0.03942288, 0.03862131, 0.03874017,\n",
            "       0.04186349, 0.04274244, 0.04463025, 0.04908028, 0.05501734,\n",
            "       0.05390621, 0.05390897, 0.05820147, 0.05954478, 0.05858842,\n",
            "       0.05771501, 0.05680565, 0.05982669, 0.0618997 , 0.06276759]), array([0.00633231, 0.00760099, 0.00880885, 0.00862367, 0.00904103,\n",
            "       0.00885031, 0.00852969, 0.00809297, 0.00944457, 0.0106635 ,\n",
            "       0.01028759, 0.00822841, 0.01019361, 0.00825882, 0.01551431,\n",
            "       0.01495322, 0.01568568, 0.01726944, 0.01822855, 0.01814839,\n",
            "       0.01785265, 0.01911303, 0.02029878, 0.02164209, 0.02381183,\n",
            "       0.02836966, 0.02843875, 0.03097611, 0.0328722 , 0.02961346,\n",
            "       0.03086831, 0.03084343, 0.034362  , 0.03386171, 0.03478765,\n",
            "       0.03645157, 0.03737752, 0.04004478, 0.04198786, 0.04254895,\n",
            "       0.0427452 , 0.03942288, 0.03862131, 0.03874017, 0.04186349,\n",
            "       0.04274244, 0.04463025, 0.04908028, 0.05501734, 0.05390621,\n",
            "       0.05390897, 0.05820147, 0.05954478, 0.05858842, 0.05771501,\n",
            "       0.05680565, 0.05982669, 0.0618997 , 0.06276759, 0.06062272])]\n",
            "[0.06062272301844436, 0.05777304791904707]\n",
            "\n"
          ],
          "name": "stdout"
        }
      ]
    },
    {
      "cell_type": "code",
      "metadata": {
        "colab": {
          "base_uri": "https://localhost:8080/"
        },
        "id": "RCrB1AE8J5Nz",
        "outputId": "276943de-fdf0-450f-b8b2-2181f71fc3c5"
      },
      "source": [
        "from keras.models import Sequential\n",
        "from keras.layers import Dense, LSTM\n",
        "\n",
        "\n",
        "model = Sequential()\n",
        "model.add(LSTM(128, return_sequences=True, input_shape= (x_train.shape[1], 1)))\n",
        "model.add(LSTM(64, return_sequences=False))\n",
        "model.add(Dense(25))\n",
        "model.add(Dense(1))\n",
        "\n",
        "\n",
        "model.compile(optimizer='adam', loss='mean_squared_error')\n",
        "\n",
        "\n",
        "model.fit(x_train, y_train, batch_size=1, epochs=1)"
      ],
      "execution_count": null,
      "outputs": [
        {
          "output_type": "stream",
          "text": [
            "2181/2181 [==============================] - 69s 30ms/step - loss: 0.0017\n"
          ],
          "name": "stdout"
        },
        {
          "output_type": "execute_result",
          "data": {
            "text/plain": [
              "<tensorflow.python.keras.callbacks.History at 0x7fc7711ac290>"
            ]
          },
          "metadata": {
            "tags": []
          },
          "execution_count": 25
        }
      ]
    },
    {
      "cell_type": "code",
      "metadata": {
        "colab": {
          "base_uri": "https://localhost:8080/"
        },
        "id": "UbRdUyB7J9BI",
        "outputId": "2bc69618-f9e2-4634-e58b-a71398aadda4"
      },
      "source": [
        "test_data = scaled_data[training_data_len - 60: , :]\n",
        "\n",
        "x_test = []\n",
        "y_test = dataset[training_data_len:, :]\n",
        "for i in range(60, len(test_data)):\n",
        "    x_test.append(test_data[i-60:i, 0])\n",
        "    \n",
        "\n",
        "x_test = np.array(x_test)\n",
        "\n",
        "\n",
        "x_test = np.reshape(x_test, (x_test.shape[0], x_test.shape[1], 1 ))\n",
        "\n",
        "\n",
        "predictions = model.predict(x_test)\n",
        "predictions = scaler.inverse_transform(predictions)\n",
        "\n",
        "\n",
        "rmse = np.sqrt(np.mean(((predictions - y_test) ** 2)))\n",
        "rmse"
      ],
      "execution_count": null,
      "outputs": [
        {
          "output_type": "execute_result",
          "data": {
            "text/plain": [
              "5.276206678535074"
            ]
          },
          "metadata": {
            "tags": []
          },
          "execution_count": 26
        }
      ]
    },
    {
      "cell_type": "code",
      "metadata": {
        "colab": {
          "base_uri": "https://localhost:8080/",
          "height": 512
        },
        "id": "MueOljCBJpbu",
        "outputId": "ca6a558a-4275-4450-f0f4-973b32318370"
      },
      "source": [
        "\n",
        "train = data[:training_data_len]\n",
        "valid = data[training_data_len:]\n",
        "valid['Predictions'] = predictions\n",
        "\n",
        "plt.figure(figsize=(16,6))\n",
        "plt.title('Model')\n",
        "plt.xlabel('Date', fontsize=18)\n",
        "plt.ylabel('Close Price USD ($)', fontsize=18)\n",
        "plt.plot(train['Close'])\n",
        "plt.plot(valid[['Close', 'Predictions']])\n",
        "plt.legend(['Train', 'Val', 'Predictions'], loc='lower right')\n",
        "plt.show()"
      ],
      "execution_count": null,
      "outputs": [
        {
          "output_type": "stream",
          "text": [
            "/usr/local/lib/python3.7/dist-packages/ipykernel_launcher.py:4: SettingWithCopyWarning: \n",
            "A value is trying to be set on a copy of a slice from a DataFrame.\n",
            "Try using .loc[row_indexer,col_indexer] = value instead\n",
            "\n",
            "See the caveats in the documentation: https://pandas.pydata.org/pandas-docs/stable/user_guide/indexing.html#returning-a-view-versus-a-copy\n",
            "  after removing the cwd from sys.path.\n"
          ],
          "name": "stderr"
        },
        {
          "output_type": "display_data",
          "data": {
            "image/png": "[encoded data removed]",
            "text/plain": [
              "<Figure size 1152x432 with 1 Axes>"
            ]
          },
          "metadata": {
            "tags": [],
            "needs_background": "light"
          }
        }
      ]
    }
  ]
}